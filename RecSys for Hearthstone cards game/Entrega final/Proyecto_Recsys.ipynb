{
  "cells": [
    {
      "cell_type": "markdown",
      "metadata": {
        "colab_type": "text",
        "id": "c57s-danYwCv"
      },
      "source": [
        "# Load datasets"
      ]
    },
    {
      "cell_type": "code",
      "execution_count": 1,
      "metadata": {
        "colab": {
          "base_uri": "https://localhost:8080/",
          "height": 102
        },
        "colab_type": "code",
        "id": "cImlpOzoZo7Z",
        "outputId": "191b8ffe-6f8c-4e12-f258-8c10234733f6",
        "vscode": {
          "languageId": "python"
        }
      },
      "outputs": [
        {
          "name": "stdout",
          "output_type": "stream",
          "text": [
            "Requirement already satisfied: requests in /usr/local/lib/python3.6/dist-packages (2.21.0)\n",
            "Requirement already satisfied: chardet<3.1.0,>=3.0.2 in /usr/local/lib/python3.6/dist-packages (from requests) (3.0.4)\n",
            "Requirement already satisfied: idna<2.9,>=2.5 in /usr/local/lib/python3.6/dist-packages (from requests) (2.8)\n",
            "Requirement already satisfied: certifi>=2017.4.17 in /usr/local/lib/python3.6/dist-packages (from requests) (2019.11.28)\n",
            "Requirement already satisfied: urllib3<1.25,>=1.21.1 in /usr/local/lib/python3.6/dist-packages (from requests) (1.24.3)\n"
          ]
        }
      ],
      "source": [
        "!pip install requests\n",
        "import requests"
      ]
    },
    {
      "cell_type": "code",
      "execution_count": null,
      "metadata": {
        "colab": {},
        "colab_type": "code",
        "id": "KL6Y-Snldbv2",
        "vscode": {
          "languageId": "python"
        }
      },
      "outputs": [],
      "source": [
        "import json\n",
        "import pandas as pd\n",
        "import matplotlib.pyplot as plt\n",
        "import numpy as np\n",
        "import seaborn as sns"
      ]
    },
    {
      "cell_type": "markdown",
      "metadata": {
        "colab_type": "text",
        "id": "kAjSs7A3Y9jR"
      },
      "source": [
        "## 1. HearthstoneJSON"
      ]
    },
    {
      "cell_type": "code",
      "execution_count": 3,
      "metadata": {
        "colab": {
          "base_uri": "https://localhost:8080/",
          "height": 34
        },
        "colab_type": "code",
        "id": "pEGq4M-gWGUu",
        "outputId": "e1d7867b-c608-4b28-c45e-564cd5d58a37",
        "vscode": {
          "languageId": "python"
        }
      },
      "outputs": [
        {
          "data": {
            "text/plain": [
              "200"
            ]
          },
          "execution_count": 3,
          "metadata": {
            "tags": []
          },
          "output_type": "execute_result"
        }
      ],
      "source": [
        "response = requests.get(\"https://api.hearthstonejson.com/v1/36393/enUS/cards.json\")\n",
        "response.status_code"
      ]
    },
    {
      "cell_type": "code",
      "execution_count": null,
      "metadata": {
        "colab": {},
        "colab_type": "code",
        "id": "c_2QuKreZ_UO",
        "vscode": {
          "languageId": "python"
        }
      },
      "outputs": [],
      "source": [
        "cards_df = pd.DataFrame.from_records(response.json())"
      ]
    },
    {
      "cell_type": "code",
      "execution_count": 5,
      "metadata": {
        "colab": {
          "base_uri": "https://localhost:8080/",
          "height": 680
        },
        "colab_type": "code",
        "id": "iPnAiIg-axOk",
        "outputId": "5172b7c4-802b-455f-e815-d3dc346a4e4c",
        "vscode": {
          "languageId": "python"
        }
      },
      "outputs": [
        {
          "name": "stdout",
          "output_type": "stream",
          "text": [
            "<class 'pandas.core.frame.DataFrame'>\n",
            "RangeIndex: 8002 entries, 0 to 8001\n",
            "Data columns (total 34 columns):\n",
            "attack                2797 non-null float64\n",
            "cardClass             7986 non-null object\n",
            "cost                  5876 non-null float64\n",
            "dbfId                 8001 non-null float64\n",
            "faction               93 non-null object\n",
            "health                3331 non-null float64\n",
            "id                    8002 non-null object\n",
            "name                  8001 non-null object\n",
            "rarity                2766 non-null object\n",
            "set                   8001 non-null object\n",
            "type                  8001 non-null object\n",
            "artist                3245 non-null object\n",
            "collectible           2210 non-null object\n",
            "flavor                2206 non-null object\n",
            "playRequirements      1092 non-null object\n",
            "text                  6606 non-null object\n",
            "mechanics             3129 non-null object\n",
            "referencedTags        640 non-null object\n",
            "race                  941 non-null object\n",
            "elite                 677 non-null object\n",
            "targetingArrowText    156 non-null object\n",
            "durability            154 non-null float64\n",
            "overload              35 non-null float64\n",
            "spellDamage           32 non-null float64\n",
            "collectionText        65 non-null object\n",
            "armor                 16 non-null float64\n",
            "entourage             693 non-null object\n",
            "puzzleType            4 non-null float64\n",
            "hideStats             378 non-null object\n",
            "howToEarn             246 non-null object\n",
            "howToEarnGolden       292 non-null object\n",
            "classes               17 non-null object\n",
            "multiClassGroup       9 non-null object\n",
            "questReward           9 non-null object\n",
            "dtypes: float64(9), object(25)\n",
            "memory usage: 2.1+ MB\n"
          ]
        }
      ],
      "source": [
        "cards_df.info()"
      ]
    },
    {
      "cell_type": "markdown",
      "metadata": {
        "colab_type": "text",
        "id": "BzW2ynNafmfX"
      },
      "source": [
        "Notar que esto incluye **todas** las cartas del juego. De acuerdo con la documentación, todo en el juego es una carta, incluso hérores, poderes de hérores y hechizos."
      ]
    },
    {
      "cell_type": "markdown",
      "metadata": {
        "colab_type": "text",
        "id": "GuQx0qTae7qm"
      },
      "source": [
        "## 2. History of Hearthstone - Kaggle"
      ]
    },
    {
      "cell_type": "code",
      "execution_count": 6,
      "metadata": {
        "colab": {
          "base_uri": "https://localhost:8080/",
          "height": 122
        },
        "colab_type": "code",
        "id": "A908ZqpA8dVy",
        "outputId": "83ceab8a-04bf-4231-9e39-8fa5619685bc",
        "vscode": {
          "languageId": "python"
        }
      },
      "outputs": [
        {
          "name": "stdout",
          "output_type": "stream",
          "text": [
            "Go to this URL in a browser: https://accounts.google.com/o/oauth2/auth?client_id=947318989803-6bn6qk8qdgf4n4g3pfee6491hc0brc4i.apps.googleusercontent.com&redirect_uri=urn%3aietf%3awg%3aoauth%3a2.0%3aoob&response_type=code&scope=email%20https%3a%2f%2fwww.googleapis.com%2fauth%2fdocs.test%20https%3a%2f%2fwww.googleapis.com%2fauth%2fdrive%20https%3a%2f%2fwww.googleapis.com%2fauth%2fdrive.photos.readonly%20https%3a%2f%2fwww.googleapis.com%2fauth%2fpeopleapi.readonly\n",
            "\n",
            "Enter your authorization code:\n",
            "··········\n",
            "Mounted at /content/drive\n"
          ]
        }
      ],
      "source": [
        "from google.colab import drive\n",
        "\n",
        "drive.mount('/content/drive')"
      ]
    },
    {
      "cell_type": "markdown",
      "metadata": {
        "colab_type": "text",
        "id": "XSW4AErWlmv7"
      },
      "source": [
        "De acuerdo con kaggle, refs.json fue extraído de la API de hearthstone. Verificaremos que estas bases de datos coincidan en el análisis exploratorio de las bases de datos."
      ]
    },
    {
      "cell_type": "code",
      "execution_count": null,
      "metadata": {
        "colab": {},
        "colab_type": "code",
        "id": "_oya_qeIlLZQ",
        "vscode": {
          "languageId": "python"
        }
      },
      "outputs": [],
      "source": [
        "deck_df = pd.read_csv('/content/drive/My Drive/Proy_recsys/Datasets/data.csv')\n",
        "cards_kaggle = pd.read_json('/content/drive/My Drive/Proy_recsys/Datasets/refs.json')"
      ]
    },
    {
      "cell_type": "code",
      "execution_count": 8,
      "metadata": {
        "colab": {
          "base_uri": "https://localhost:8080/",
          "height": 799
        },
        "colab_type": "code",
        "id": "yB5sq8rCqx-O",
        "outputId": "19e3d940-83ec-416a-dcd0-97ed762773d0",
        "vscode": {
          "languageId": "python"
        }
      },
      "outputs": [
        {
          "name": "stdout",
          "output_type": "stream",
          "text": [
            "<class 'pandas.core.frame.DataFrame'>\n",
            "RangeIndex: 346232 entries, 0 to 346231\n",
            "Data columns (total 41 columns):\n",
            "craft_cost        346232 non-null int64\n",
            "date              346232 non-null object\n",
            "deck_archetype    346232 non-null object\n",
            "deck_class        346232 non-null object\n",
            "deck_format       346232 non-null object\n",
            "deck_id           346232 non-null int64\n",
            "deck_set          346232 non-null object\n",
            "deck_type         346232 non-null object\n",
            "rating            346232 non-null int64\n",
            "title             346224 non-null object\n",
            "user              346232 non-null object\n",
            "card_0            346232 non-null int64\n",
            "card_1            346232 non-null int64\n",
            "card_2            346232 non-null int64\n",
            "card_3            346232 non-null int64\n",
            "card_4            346232 non-null int64\n",
            "card_5            346232 non-null int64\n",
            "card_6            346232 non-null int64\n",
            "card_7            346232 non-null int64\n",
            "card_8            346232 non-null int64\n",
            "card_9            346232 non-null int64\n",
            "card_10           346232 non-null int64\n",
            "card_11           346232 non-null int64\n",
            "card_12           346232 non-null int64\n",
            "card_13           346232 non-null int64\n",
            "card_14           346232 non-null int64\n",
            "card_15           346232 non-null int64\n",
            "card_16           346232 non-null int64\n",
            "card_17           346232 non-null int64\n",
            "card_18           346232 non-null int64\n",
            "card_19           346232 non-null int64\n",
            "card_20           346232 non-null int64\n",
            "card_21           346232 non-null int64\n",
            "card_22           346232 non-null int64\n",
            "card_23           346232 non-null int64\n",
            "card_24           346232 non-null int64\n",
            "card_25           346232 non-null int64\n",
            "card_26           346232 non-null int64\n",
            "card_27           346232 non-null int64\n",
            "card_28           346232 non-null int64\n",
            "card_29           346232 non-null int64\n",
            "dtypes: int64(33), object(8)\n",
            "memory usage: 108.3+ MB\n"
          ]
        }
      ],
      "source": [
        "deck_df.info()"
      ]
    },
    {
      "cell_type": "code",
      "execution_count": 9,
      "metadata": {
        "colab": {
          "base_uri": "https://localhost:8080/",
          "height": 646
        },
        "colab_type": "code",
        "id": "iHYV_gfSq1BO",
        "outputId": "55ce93e2-c15e-435c-a9b7-f44728107460",
        "vscode": {
          "languageId": "python"
        }
      },
      "outputs": [
        {
          "name": "stdout",
          "output_type": "stream",
          "text": [
            "<class 'pandas.core.frame.DataFrame'>\n",
            "RangeIndex: 3117 entries, 0 to 3116\n",
            "Data columns (total 32 columns):\n",
            "artist                1527 non-null object\n",
            "attack                1431 non-null float64\n",
            "cardClass             3114 non-null object\n",
            "collectible           1206 non-null float64\n",
            "cost                  2420 non-null float64\n",
            "dbfId                 3116 non-null float64\n",
            "flavor                1193 non-null object\n",
            "health                1539 non-null float64\n",
            "id                    3117 non-null object\n",
            "name                  3116 non-null object\n",
            "playerClass           3114 non-null object\n",
            "rarity                1598 non-null object\n",
            "referencedTags        263 non-null object\n",
            "set                   3116 non-null object\n",
            "text                  2665 non-null object\n",
            "type                  3116 non-null object\n",
            "elite                 353 non-null float64\n",
            "mechanics             1061 non-null object\n",
            "howToEarnGolden       290 non-null object\n",
            "race                  435 non-null object\n",
            "playRequirements      476 non-null object\n",
            "howToEarn             245 non-null object\n",
            "targetingArrowText    56 non-null object\n",
            "durability            71 non-null float64\n",
            "entourage             58 non-null object\n",
            "faction               72 non-null object\n",
            "overload              25 non-null float64\n",
            "spellDamage           17 non-null float64\n",
            "hideStats             20 non-null float64\n",
            "classes               9 non-null object\n",
            "multiClassGroup       9 non-null object\n",
            "collectionText        12 non-null object\n",
            "dtypes: float64(10), object(22)\n",
            "memory usage: 779.4+ KB\n"
          ]
        }
      ],
      "source": [
        "cards_kaggle.info()"
      ]
    },
    {
      "cell_type": "code",
      "execution_count": 10,
      "metadata": {
        "colab": {
          "base_uri": "https://localhost:8080/",
          "height": 393
        },
        "colab_type": "code",
        "id": "hTNiDLK3uZmv",
        "outputId": "b51d7cd2-dc6d-40af-f6ce-66405d3549a7",
        "vscode": {
          "languageId": "python"
        }
      },
      "outputs": [
        {
          "data": {
            "text/plain": [
              "<matplotlib.axes._subplots.AxesSubplot at 0x7fe80c88e390>"
            ]
          },
          "execution_count": 10,
          "metadata": {
            "tags": []
          },
          "output_type": "execute_result"
        },
        {
          "data": {
            "image/png": "[encoded data removed]",
            "text/plain": [
              "<Figure size 720x360 with 1 Axes>"
            ]
          },
          "metadata": {
            "tags": []
          },
          "output_type": "display_data"
        }
      ],
      "source": [
        "deck_df[\"date\"] = deck_df[\"date\"].astype(\"datetime64\")\n",
        "deck_df.groupby([deck_df[\"date\"].dt.year, deck_df[\"date\"].dt.month]).count().plot(kind=\"bar\", legend=False, figsize=(10,5))"
      ]
    },
    {
      "cell_type": "markdown",
      "metadata": {
        "colab_type": "text",
        "id": "2_BXUIxuseoW"
      },
      "source": [
        "## 3. Collect-O-Bot\n",
        "\n"
      ]
    },
    {
      "cell_type": "markdown",
      "metadata": {
        "colab_type": "text",
        "id": "4FQKuR89v9s4"
      },
      "source": [
        "Dados los años anteriores, utilizaremos sets de juegos correspondientes a partidas entre Junio de 2016 y Abril del 2017. En Collect-O-Bot no hay datos anteriores."
      ]
    },
    {
      "cell_type": "code",
      "execution_count": 11,
      "metadata": {
        "colab": {
          "base_uri": "https://localhost:8080/",
          "height": 419
        },
        "colab_type": "code",
        "id": "iA6_7AI6B7Ef",
        "outputId": "88b63401-4884-46d3-ea5d-7231fa2b6c08",
        "vscode": {
          "languageId": "python"
        }
      },
      "outputs": [
        {
          "data": {
            "text/html": [
              "<div>\n",
              "<style scoped>\n",
              "    .dataframe tbody tr th:only-of-type {\n",
              "        vertical-align: middle;\n",
              "    }\n",
              "\n",
              "    .dataframe tbody tr th {\n",
              "        vertical-align: top;\n",
              "    }\n",
              "\n",
              "    .dataframe thead th {\n",
              "        text-align: right;\n",
              "    }\n",
              "</style>\n",
              "<table border=\"1\" class=\"dataframe\">\n",
              "  <thead>\n",
              "    <tr style=\"text-align: right;\">\n",
              "      <th></th>\n",
              "      <th>range_start</th>\n",
              "      <th>range_end</th>\n",
              "      <th>unique_users</th>\n",
              "      <th>total_games</th>\n",
              "      <th>games</th>\n",
              "    </tr>\n",
              "  </thead>\n",
              "  <tbody>\n",
              "    <tr>\n",
              "      <th>0</th>\n",
              "      <td>2016-06-01T00:00:00Z</td>\n",
              "      <td>2016-07-01T00:00:00Z</td>\n",
              "      <td>38</td>\n",
              "      <td>7950</td>\n",
              "      <td>{'user_hash': '853B97737D848AE2F22D60931C888CB...</td>\n",
              "    </tr>\n",
              "    <tr>\n",
              "      <th>1</th>\n",
              "      <td>2016-06-01T00:00:00Z</td>\n",
              "      <td>2016-07-01T00:00:00Z</td>\n",
              "      <td>38</td>\n",
              "      <td>7950</td>\n",
              "      <td>{'user_hash': '853B97737D848AE2F22D60931C888CB...</td>\n",
              "    </tr>\n",
              "    <tr>\n",
              "      <th>2</th>\n",
              "      <td>2016-06-01T00:00:00Z</td>\n",
              "      <td>2016-07-01T00:00:00Z</td>\n",
              "      <td>38</td>\n",
              "      <td>7950</td>\n",
              "      <td>{'user_hash': '853B97737D848AE2F22D60931C888CB...</td>\n",
              "    </tr>\n",
              "    <tr>\n",
              "      <th>3</th>\n",
              "      <td>2016-06-01T00:00:00Z</td>\n",
              "      <td>2016-07-01T00:00:00Z</td>\n",
              "      <td>38</td>\n",
              "      <td>7950</td>\n",
              "      <td>{'user_hash': '853B97737D848AE2F22D60931C888CB...</td>\n",
              "    </tr>\n",
              "    <tr>\n",
              "      <th>4</th>\n",
              "      <td>2016-06-01T00:00:00Z</td>\n",
              "      <td>2016-07-01T00:00:00Z</td>\n",
              "      <td>38</td>\n",
              "      <td>7950</td>\n",
              "      <td>{'user_hash': '853B97737D848AE2F22D60931C888CB...</td>\n",
              "    </tr>\n",
              "    <tr>\n",
              "      <th>...</th>\n",
              "      <td>...</td>\n",
              "      <td>...</td>\n",
              "      <td>...</td>\n",
              "      <td>...</td>\n",
              "      <td>...</td>\n",
              "    </tr>\n",
              "    <tr>\n",
              "      <th>16268</th>\n",
              "      <td>2017-03-01T00:00:00Z</td>\n",
              "      <td>2017-04-01T00:00:00Z</td>\n",
              "      <td>69</td>\n",
              "      <td>16273</td>\n",
              "      <td>{'user_hash': '70A90F443D0F54B4B1601CDA738EEA6...</td>\n",
              "    </tr>\n",
              "    <tr>\n",
              "      <th>16269</th>\n",
              "      <td>2017-03-01T00:00:00Z</td>\n",
              "      <td>2017-04-01T00:00:00Z</td>\n",
              "      <td>69</td>\n",
              "      <td>16273</td>\n",
              "      <td>{'user_hash': '03019D3B5094E121EBCEEB6F21F0FBE...</td>\n",
              "    </tr>\n",
              "    <tr>\n",
              "      <th>16270</th>\n",
              "      <td>2017-03-01T00:00:00Z</td>\n",
              "      <td>2017-04-01T00:00:00Z</td>\n",
              "      <td>69</td>\n",
              "      <td>16273</td>\n",
              "      <td>{'user_hash': '03019D3B5094E121EBCEEB6F21F0FBE...</td>\n",
              "    </tr>\n",
              "    <tr>\n",
              "      <th>16271</th>\n",
              "      <td>2017-03-01T00:00:00Z</td>\n",
              "      <td>2017-04-01T00:00:00Z</td>\n",
              "      <td>69</td>\n",
              "      <td>16273</td>\n",
              "      <td>{'user_hash': '03019D3B5094E121EBCEEB6F21F0FBE...</td>\n",
              "    </tr>\n",
              "    <tr>\n",
              "      <th>16272</th>\n",
              "      <td>2017-03-01T00:00:00Z</td>\n",
              "      <td>2017-04-01T00:00:00Z</td>\n",
              "      <td>69</td>\n",
              "      <td>16273</td>\n",
              "      <td>{'user_hash': '03019D3B5094E121EBCEEB6F21F0FBE...</td>\n",
              "    </tr>\n",
              "  </tbody>\n",
              "</table>\n",
              "<p>24223 rows × 5 columns</p>\n",
              "</div>"
            ],
            "text/plain": [
              "                range_start  ...                                              games\n",
              "0      2016-06-01T00:00:00Z  ...  {'user_hash': '853B97737D848AE2F22D60931C888CB...\n",
              "1      2016-06-01T00:00:00Z  ...  {'user_hash': '853B97737D848AE2F22D60931C888CB...\n",
              "2      2016-06-01T00:00:00Z  ...  {'user_hash': '853B97737D848AE2F22D60931C888CB...\n",
              "3      2016-06-01T00:00:00Z  ...  {'user_hash': '853B97737D848AE2F22D60931C888CB...\n",
              "4      2016-06-01T00:00:00Z  ...  {'user_hash': '853B97737D848AE2F22D60931C888CB...\n",
              "...                     ...  ...                                                ...\n",
              "16268  2017-03-01T00:00:00Z  ...  {'user_hash': '70A90F443D0F54B4B1601CDA738EEA6...\n",
              "16269  2017-03-01T00:00:00Z  ...  {'user_hash': '03019D3B5094E121EBCEEB6F21F0FBE...\n",
              "16270  2017-03-01T00:00:00Z  ...  {'user_hash': '03019D3B5094E121EBCEEB6F21F0FBE...\n",
              "16271  2017-03-01T00:00:00Z  ...  {'user_hash': '03019D3B5094E121EBCEEB6F21F0FBE...\n",
              "16272  2017-03-01T00:00:00Z  ...  {'user_hash': '03019D3B5094E121EBCEEB6F21F0FBE...\n",
              "\n",
              "[24223 rows x 5 columns]"
            ]
          },
          "execution_count": 11,
          "metadata": {
            "tags": []
          },
          "output_type": "execute_result"
        }
      ],
      "source": [
        "games_history = pd.read_json('/content/drive/My Drive/Proy_recsys/Datasets/2016-06.json')\n",
        "games_history.append(pd.read_json('/content/drive/My Drive/Proy_recsys/Datasets/2016-07.json'))\n",
        "games_history.append(pd.read_json('/content/drive/My Drive/Proy_recsys/Datasets/2016-08.json'))\n",
        "games_history.append(pd.read_json('/content/drive/My Drive/Proy_recsys/Datasets/2016-09.json'))\n",
        "games_history.append(pd.read_json('/content/drive/My Drive/Proy_recsys/Datasets/2016-10.json'))\n",
        "games_history.append(pd.read_json('/content/drive/My Drive/Proy_recsys/Datasets/2016-11.json'))\n",
        "games_history.append(pd.read_json('/content/drive/My Drive/Proy_recsys/Datasets/2016-12.json'))\n",
        "games_history.append(pd.read_json('/content/drive/My Drive/Proy_recsys/Datasets/2017-01.json'))\n",
        "games_history.append(pd.read_json('/content/drive/My Drive/Proy_recsys/Datasets/2017-02.json'))\n",
        "games_history.append(pd.read_json('/content/drive/My Drive/Proy_recsys/Datasets/2017-03.json'))"
      ]
    },
    {
      "cell_type": "markdown",
      "metadata": {
        "colab_type": "text",
        "id": "awyQME3-DU05"
      },
      "source": [
        "# Análisis Exploratorio de Datos\n",
        "\n",
        "Primero analizaremos cada base de datos por separado para posteriormente enlazarlas."
      ]
    },
    {
      "cell_type": "markdown",
      "metadata": {
        "colab_type": "text",
        "id": "CZu64XAvKrq7"
      },
      "source": [
        "## 1. HearthstoneJSON"
      ]
    },
    {
      "cell_type": "code",
      "execution_count": 12,
      "metadata": {
        "colab": {
          "base_uri": "https://localhost:8080/",
          "height": 680
        },
        "colab_type": "code",
        "id": "Hq04dQFpDk12",
        "outputId": "0607e5da-897a-4d11-d7dd-9a568188c622",
        "vscode": {
          "languageId": "python"
        }
      },
      "outputs": [
        {
          "name": "stdout",
          "output_type": "stream",
          "text": [
            "<class 'pandas.core.frame.DataFrame'>\n",
            "RangeIndex: 8002 entries, 0 to 8001\n",
            "Data columns (total 34 columns):\n",
            "attack                2797 non-null float64\n",
            "cardClass             7986 non-null object\n",
            "cost                  5876 non-null float64\n",
            "dbfId                 8001 non-null float64\n",
            "faction               93 non-null object\n",
            "health                3331 non-null float64\n",
            "id                    8002 non-null object\n",
            "name                  8001 non-null object\n",
            "rarity                2766 non-null object\n",
            "set                   8001 non-null object\n",
            "type                  8001 non-null object\n",
            "artist                3245 non-null object\n",
            "collectible           2210 non-null object\n",
            "flavor                2206 non-null object\n",
            "playRequirements      1092 non-null object\n",
            "text                  6606 non-null object\n",
            "mechanics             3129 non-null object\n",
            "referencedTags        640 non-null object\n",
            "race                  941 non-null object\n",
            "elite                 677 non-null object\n",
            "targetingArrowText    156 non-null object\n",
            "durability            154 non-null float64\n",
            "overload              35 non-null float64\n",
            "spellDamage           32 non-null float64\n",
            "collectionText        65 non-null object\n",
            "armor                 16 non-null float64\n",
            "entourage             693 non-null object\n",
            "puzzleType            4 non-null float64\n",
            "hideStats             378 non-null object\n",
            "howToEarn             246 non-null object\n",
            "howToEarnGolden       292 non-null object\n",
            "classes               17 non-null object\n",
            "multiClassGroup       9 non-null object\n",
            "questReward           9 non-null object\n",
            "dtypes: float64(9), object(25)\n",
            "memory usage: 2.1+ MB\n"
          ]
        }
      ],
      "source": [
        "cards_df.info()"
      ]
    },
    {
      "cell_type": "markdown",
      "metadata": {
        "colab_type": "text",
        "id": "jL8gdE50NC5D"
      },
      "source": [
        "En primer lugar, analizaremos la capacidad de ataque de las cartas. Notemos que no todas las cartas tienen capacidad de ataque, sino que solo aquellas destinadas a intentar derrotar al oponente."
      ]
    },
    {
      "cell_type": "code",
      "execution_count": 13,
      "metadata": {
        "colab": {
          "base_uri": "https://localhost:8080/",
          "height": 500
        },
        "colab_type": "code",
        "id": "dY1L8e7_LYEQ",
        "outputId": "97bcdb6c-b147-4e8e-d8da-1473514b53f0",
        "vscode": {
          "languageId": "python"
        }
      },
      "outputs": [
        {
          "data": {
            "text/plain": [
              "<matplotlib.axes._subplots.AxesSubplot at 0x7fe809ed8b70>"
            ]
          },
          "execution_count": 13,
          "metadata": {
            "tags": []
          },
          "output_type": "execute_result"
        },
        {
          "data": {
            "image/png": "[encoded data removed]",
            "text/plain": [
              "<Figure size 1080x576 with 1 Axes>"
            ]
          },
          "metadata": {
            "tags": []
          },
          "output_type": "display_data"
        }
      ],
      "source": [
        "cards_df['attack'].hist(bins=np.arange(0,32,1)-0.5, figsize=(15,8))"
      ]
    },
    {
      "cell_type": "markdown",
      "metadata": {
        "colab_type": "text",
        "id": "WVlQ1QHAZSyw"
      },
      "source": [
        "Notamos que la mayoría de las cartas tienen una capacidad de ataque de dos puntos, mientras que una muy baja cantidad presenta capacidad de ataque mayor a 10 puntos. Estos datos con baja frecuencia no pueden ser considerados como outliers, dado que si alguien posee en su mano una carta con 30 puntos de ataque, el sistema debe recomendarla con alta seguridad.\n",
        "\n",
        "A continuación analizaremos los puntos de ataque por clase de cartas."
      ]
    },
    {
      "cell_type": "code",
      "execution_count": 14,
      "metadata": {
        "colab": {
          "base_uri": "https://localhost:8080/",
          "height": 537
        },
        "colab_type": "code",
        "id": "cJ5jS1RuMbgP",
        "outputId": "74bc37b8-0f63-46bd-f31d-eb87aa89d031",
        "vscode": {
          "languageId": "python"
        }
      },
      "outputs": [
        {
          "name": "stderr",
          "output_type": "stream",
          "text": [
            "/usr/local/lib/python3.6/dist-packages/seaborn/axisgrid.py:848: UserWarning: Tight layout not applied. tight_layout cannot make axes height small enough to accommodate all axes decorations\n",
            "  self.fig.tight_layout()\n"
          ]
        },
        {
          "data": {
            "text/plain": [
              "<seaborn.axisgrid.FacetGrid at 0x7fe7da33f630>"
            ]
          },
          "execution_count": 14,
          "metadata": {
            "tags": []
          },
          "output_type": "execute_result"
        },
        {
          "data": {
            "image/png": "[encoded data removed]",
            "text/plain": [
              "<Figure size 900x468 with 13 Axes>"
            ]
          },
          "metadata": {
            "tags": []
          },
          "output_type": "display_data"
        }
      ],
      "source": [
        "sns.set(style=\"white\", rc={\"axes.facecolor\": (0, 0, 0, 0)})\n",
        "pal = sns.cubehelix_palette(20, rot=-.25, light=.7)\n",
        "g = sns.FacetGrid(cards_df, row=\"cardClass\", hue=\"cardClass\", aspect=25, height=.5, palette=pal)\n",
        "\n",
        "g.map(sns.kdeplot, \"attack\", clip_on=False, shade=True, alpha=1, lw=1.5, bw=.4)\n",
        "g.map(sns.kdeplot, \"attack\", clip_on=False, color=\"w\", lw=2, bw=.4)\n",
        "g.map(plt.axhline, y=0, lw=2, clip_on=False)\n",
        "\n",
        "def label(x, color, label):\n",
        "    ax = plt.gca()\n",
        "    ax.text(0, .2, label, fontweight=\"bold\", color=color,\n",
        "            ha=\"left\", va=\"center\", transform=ax.transAxes)\n",
        "\n",
        "g.map(label, \"attack\")\n",
        "g.fig.subplots_adjust(hspace=-.25)\n",
        "\n",
        "g.set_titles(\"\")\n",
        "g.set(yticks=[])\n",
        "g.despine(bottom=True, left=True)\n",
        "\n"
      ]
    },
    {
      "cell_type": "markdown",
      "metadata": {
        "colab_type": "text",
        "id": "pwVm5A7c41Di"
      },
      "source": []
    },
    {
      "cell_type": "code",
      "execution_count": null,
      "metadata": {
        "colab": {},
        "colab_type": "code",
        "id": "YEIVTxq5lew6",
        "vscode": {
          "languageId": "python"
        }
      },
      "outputs": [],
      "source": [
        "import io\n",
        "import ast\n",
        "import math\n",
        "import random\n",
        "from sklearn.preprocessing import StandardScaler\n",
        "from sklearn.decomposition import PCA\n",
        "\n",
        "TEST_1 = 3\n",
        "TEST_2 = 6\n",
        "K_GLOBAL = 10"
      ]
    },
    {
      "cell_type": "code",
      "execution_count": 16,
      "metadata": {
        "colab": {
          "base_uri": "https://localhost:8080/",
          "height": 238
        },
        "colab_type": "code",
        "id": "2U8BvGK_RQkC",
        "outputId": "bf5020db-a75a-4cc1-c9a1-6feea318ffe7",
        "vscode": {
          "languageId": "python"
        }
      },
      "outputs": [
        {
          "name": "stdout",
          "output_type": "stream",
          "text": [
            "<class 'pandas.core.frame.DataFrame'>\n",
            "Int64Index: 1587 entries, 3 to 8001\n",
            "Data columns (total 8 columns):\n",
            "name         1587 non-null object\n",
            "id           1587 non-null object\n",
            "cardClass    1587 non-null object\n",
            "attack       1587 non-null float64\n",
            "cost         1587 non-null float64\n",
            "health       1587 non-null float64\n",
            "rarity       1587 non-null object\n",
            "mechanics    1587 non-null object\n",
            "dtypes: float64(3), object(5)\n",
            "memory usage: 111.6+ KB\n"
          ]
        }
      ],
      "source": [
        "aux_dataframe = cards_df[['name', 'id', 'cardClass', 'attack', 'cost', 'health', 'rarity', 'mechanics']].copy() # seleccionar los atributos que nos interesan\n",
        "aux_dataframe.dropna(inplace=True)\n",
        "aux_dataframe.info()\n"
      ]
    },
    {
      "cell_type": "code",
      "execution_count": null,
      "metadata": {
        "colab": {},
        "colab_type": "code",
        "id": "nJN6_7NrRToz",
        "vscode": {
          "languageId": "python"
        }
      },
      "outputs": [],
      "source": [
        "def get_first_mechanic(row):\n",
        "  return row['mechanics'][0]\n",
        "\n",
        "aux_dataframe['mechanics_upacked'] = aux_dataframe.apply(lambda row: get_first_mechanic(row), axis=1)\n",
        "aux_dataframe.drop(['mechanics'], axis=1, inplace=True)"
      ]
    },
    {
      "cell_type": "code",
      "execution_count": 18,
      "metadata": {
        "colab": {
          "base_uri": "https://localhost:8080/",
          "height": 419
        },
        "colab_type": "code",
        "id": "1h88UkNHO5hP",
        "outputId": "8ec94ee4-8e17-4aca-b85d-62ea726bb32e",
        "vscode": {
          "languageId": "python"
        }
      },
      "outputs": [
        {
          "data": {
            "text/html": [
              "<div>\n",
              "<style scoped>\n",
              "    .dataframe tbody tr th:only-of-type {\n",
              "        vertical-align: middle;\n",
              "    }\n",
              "\n",
              "    .dataframe tbody tr th {\n",
              "        vertical-align: top;\n",
              "    }\n",
              "\n",
              "    .dataframe thead th {\n",
              "        text-align: right;\n",
              "    }\n",
              "</style>\n",
              "<table border=\"1\" class=\"dataframe\">\n",
              "  <thead>\n",
              "    <tr style=\"text-align: right;\">\n",
              "      <th></th>\n",
              "      <th>name</th>\n",
              "      <th>id</th>\n",
              "      <th>cardClass</th>\n",
              "      <th>attack</th>\n",
              "      <th>cost</th>\n",
              "      <th>health</th>\n",
              "      <th>rarity</th>\n",
              "      <th>mechanics_upacked</th>\n",
              "    </tr>\n",
              "  </thead>\n",
              "  <tbody>\n",
              "    <tr>\n",
              "      <th>3</th>\n",
              "      <td>Fallen Hero</td>\n",
              "      <td>AT_003</td>\n",
              "      <td>MAGE</td>\n",
              "      <td>3.0</td>\n",
              "      <td>2.0</td>\n",
              "      <td>2.0</td>\n",
              "      <td>RARE</td>\n",
              "      <td>HEROPOWER_DAMAGE</td>\n",
              "    </tr>\n",
              "    <tr>\n",
              "      <th>7</th>\n",
              "      <td>Dalaran Aspirant</td>\n",
              "      <td>AT_006</td>\n",
              "      <td>MAGE</td>\n",
              "      <td>3.0</td>\n",
              "      <td>4.0</td>\n",
              "      <td>5.0</td>\n",
              "      <td>COMMON</td>\n",
              "      <td>INSPIRE</td>\n",
              "    </tr>\n",
              "    <tr>\n",
              "      <th>9</th>\n",
              "      <td>Spellslinger</td>\n",
              "      <td>AT_007</td>\n",
              "      <td>MAGE</td>\n",
              "      <td>3.0</td>\n",
              "      <td>3.0</td>\n",
              "      <td>4.0</td>\n",
              "      <td>COMMON</td>\n",
              "      <td>BATTLECRY</td>\n",
              "    </tr>\n",
              "    <tr>\n",
              "      <th>11</th>\n",
              "      <td>Rhonin</td>\n",
              "      <td>AT_009</td>\n",
              "      <td>MAGE</td>\n",
              "      <td>7.0</td>\n",
              "      <td>8.0</td>\n",
              "      <td>7.0</td>\n",
              "      <td>LEGENDARY</td>\n",
              "      <td>DEATHRATTLE</td>\n",
              "    </tr>\n",
              "    <tr>\n",
              "      <th>12</th>\n",
              "      <td>Ram Wrangler</td>\n",
              "      <td>AT_010</td>\n",
              "      <td>HUNTER</td>\n",
              "      <td>3.0</td>\n",
              "      <td>5.0</td>\n",
              "      <td>3.0</td>\n",
              "      <td>RARE</td>\n",
              "      <td>BATTLECRY</td>\n",
              "    </tr>\n",
              "    <tr>\n",
              "      <th>...</th>\n",
              "      <td>...</td>\n",
              "      <td>...</td>\n",
              "      <td>...</td>\n",
              "      <td>...</td>\n",
              "      <td>...</td>\n",
              "      <td>...</td>\n",
              "      <td>...</td>\n",
              "      <td>...</td>\n",
              "    </tr>\n",
              "    <tr>\n",
              "      <th>7997</th>\n",
              "      <td>N'Zoth, the Corruptor</td>\n",
              "      <td>WE1_035</td>\n",
              "      <td>NEUTRAL</td>\n",
              "      <td>5.0</td>\n",
              "      <td>10.0</td>\n",
              "      <td>7.0</td>\n",
              "      <td>LEGENDARY</td>\n",
              "      <td>BATTLECRY</td>\n",
              "    </tr>\n",
              "    <tr>\n",
              "      <th>7998</th>\n",
              "      <td>Sylvanas Windrunner</td>\n",
              "      <td>WE1_036</td>\n",
              "      <td>NEUTRAL</td>\n",
              "      <td>5.0</td>\n",
              "      <td>6.0</td>\n",
              "      <td>5.0</td>\n",
              "      <td>LEGENDARY</td>\n",
              "      <td>DEATHRATTLE</td>\n",
              "    </tr>\n",
              "    <tr>\n",
              "      <th>7999</th>\n",
              "      <td>Ragnaros the Firelord</td>\n",
              "      <td>WE1_037</td>\n",
              "      <td>NEUTRAL</td>\n",
              "      <td>8.0</td>\n",
              "      <td>8.0</td>\n",
              "      <td>8.0</td>\n",
              "      <td>LEGENDARY</td>\n",
              "      <td>CANT_ATTACK</td>\n",
              "    </tr>\n",
              "    <tr>\n",
              "      <th>8000</th>\n",
              "      <td>The Curator</td>\n",
              "      <td>WE1_038</td>\n",
              "      <td>NEUTRAL</td>\n",
              "      <td>4.0</td>\n",
              "      <td>7.0</td>\n",
              "      <td>6.0</td>\n",
              "      <td>LEGENDARY</td>\n",
              "      <td>BATTLECRY</td>\n",
              "    </tr>\n",
              "    <tr>\n",
              "      <th>8001</th>\n",
              "      <td>Emperor Thaurissan</td>\n",
              "      <td>WE1_039</td>\n",
              "      <td>NEUTRAL</td>\n",
              "      <td>5.0</td>\n",
              "      <td>6.0</td>\n",
              "      <td>5.0</td>\n",
              "      <td>LEGENDARY</td>\n",
              "      <td>TRIGGER_VISUAL</td>\n",
              "    </tr>\n",
              "  </tbody>\n",
              "</table>\n",
              "<p>1587 rows × 8 columns</p>\n",
              "</div>"
            ],
            "text/plain": [
              "                       name       id  ...     rarity  mechanics_upacked\n",
              "3               Fallen Hero   AT_003  ...       RARE   HEROPOWER_DAMAGE\n",
              "7          Dalaran Aspirant   AT_006  ...     COMMON            INSPIRE\n",
              "9              Spellslinger   AT_007  ...     COMMON          BATTLECRY\n",
              "11                   Rhonin   AT_009  ...  LEGENDARY        DEATHRATTLE\n",
              "12             Ram Wrangler   AT_010  ...       RARE          BATTLECRY\n",
              "...                     ...      ...  ...        ...                ...\n",
              "7997  N'Zoth, the Corruptor  WE1_035  ...  LEGENDARY          BATTLECRY\n",
              "7998    Sylvanas Windrunner  WE1_036  ...  LEGENDARY        DEATHRATTLE\n",
              "7999  Ragnaros the Firelord  WE1_037  ...  LEGENDARY        CANT_ATTACK\n",
              "8000            The Curator  WE1_038  ...  LEGENDARY          BATTLECRY\n",
              "8001     Emperor Thaurissan  WE1_039  ...  LEGENDARY     TRIGGER_VISUAL\n",
              "\n",
              "[1587 rows x 8 columns]"
            ]
          },
          "execution_count": 18,
          "metadata": {
            "tags": []
          },
          "output_type": "execute_result"
        }
      ],
      "source": [
        "aux_dataframe"
      ]
    },
    {
      "cell_type": "code",
      "execution_count": null,
      "metadata": {
        "colab": {},
        "colab_type": "code",
        "id": "DlN1MNW7lsI-",
        "vscode": {
          "languageId": "python"
        }
      },
      "outputs": [],
      "source": [
        "# Seleccionar los atribudts de las cartas que irán a embeddings\n",
        "\n",
        "\n",
        "ataques = pd.unique(aux_dataframe['attack'])\n",
        "costos = pd.unique(aux_dataframe['cost'])\n",
        "salud = pd.unique(aux_dataframe['health']).astype(int)\n",
        "rareza = pd.unique(aux_dataframe['rarity'])\n",
        "mecanicas = pd.unique(aux_dataframe['mechanics_upacked'])\n"
      ]
    },
    {
      "cell_type": "markdown",
      "metadata": {
        "colab_type": "text",
        "id": "OPqWa9UHwOcg"
      },
      "source": [
        "Hay que formatear los valores únicos de las características de las cartas para que sean legibles en el futuro. Se les agregan sus respectivos índices para armar embeddings con ellos."
      ]
    },
    {
      "cell_type": "code",
      "execution_count": null,
      "metadata": {
        "colab": {},
        "colab_type": "code",
        "id": "URmmpLXCuAT8",
        "vscode": {
          "languageId": "python"
        }
      },
      "outputs": [],
      "source": [
        "# crear un dataframepara cada campo de características relevantes de una carta\n",
        "ataques = pd.DataFrame(data= ataques, index=range(0, len(ataques)))\n",
        "costos = pd.DataFrame(data= costos, index=range(0, len(costos)))\n",
        "salud = pd.DataFrame(data= salud, index=range(0, len(salud)))\n",
        "rareza = pd.DataFrame(data= rareza, index=range(0, len(rareza)))\n",
        "mecanicas = pd.DataFrame(data= mecanicas, index=range(0, len(mecanicas)))\n",
        "\n",
        "\n",
        "# Generar una nueva columna con nuevos índices que representan a cada valor de cada campo \n",
        "ataques['value'] = ataques.index + 1\n",
        "costos['value'] = costos.index + 1\n",
        "salud['value'] = salud.index + 1\n",
        "rareza['value'] = rareza.index + 1\n",
        "mecanicas['value'] = mecanicas.index + 1"
      ]
    },
    {
      "cell_type": "code",
      "execution_count": null,
      "metadata": {
        "colab": {},
        "colab_type": "code",
        "id": "heFIY9xpwhCH",
        "vscode": {
          "languageId": "python"
        }
      },
      "outputs": [],
      "source": [
        "embeddings_cartas = []\n",
        "nombres_cartas = []\n",
        "ll = []\n",
        "idd = []\n",
        "\n",
        "for carta in aux_dataframe.index: # para cada carta de hearthstone json\n",
        "  try:\n",
        "    row = aux_dataframe.iloc[carta,:]\n",
        "    ataque_carta = row['attack']\n",
        "    costo_carta = row['cost']\n",
        "    salud_carta = row['health']\n",
        "    rareza_carta = row['rarity']\n",
        "    mecanica_carta = row['mechanics_upacked']\n",
        "    # por cada carta se recodifica el valor de cada uno de sus campos a ints\n",
        "    # los ints se sacan de los dataframes anteriores donde agregamos la columna 'value' que los contiene\n",
        "    fuera= 0\n",
        "\n",
        "    ind1 = ataques.iloc[:,0].isin([ataque_carta])\n",
        "    ind1 = ind1[ind1 == True].index[0]\n",
        "    ataque_carta = ataques['value'][ind1]\n",
        "\n",
        "    ind2 = costos.iloc[:,0].isin([costo_carta])\n",
        "    ind2 = ind2[ind2 == True].index[0]\n",
        "    costo_carta = costos['value'][ind2]\n",
        "\n",
        "    ind3 = salud.iloc[:,0].isin([salud_carta])\n",
        "    try:\n",
        "      ind3 = ind3[ind3 == True].index[0]\n",
        "      salud_carta = salud['value'][ind3]\n",
        "    except: \n",
        "      fuera = 1\n",
        "\n",
        "    ind4 = rareza.iloc[:,0].isin([rareza_carta])\n",
        "    try:\n",
        "      ind4 = ind4[ind4 == True].index[0]\n",
        "      rareza_carta = rareza['value'][ind4]\n",
        "    except:\n",
        "      fuera = 1\n",
        "\n",
        "    ind5 = mecanicas.iloc[:,0].isin([mecanica_carta])\n",
        "    try:\n",
        "      ind5 = ind5[ind5 == True].index[0]\n",
        "      mecanica_carta = mecanicas['value'][ind5]\n",
        "    except:\n",
        "      fuera = 1\n",
        "\n",
        "    if (fuera == 0): # se crea un dataframe final en los que cada carta tiene un embedding que es numpy array de los campos recién codificados\n",
        "      embedding = [ataque_carta, costo_carta, salud_carta, rareza_carta, mecanica_carta]\n",
        "      # Converting integer list to string list \n",
        "      # embedding = np.array(embedding)\n",
        "      nombres_cartas.append(aux_dataframe['name'][carta])\n",
        "      embeddings_cartas.append(embedding)\n",
        "      ll.append(aux_dataframe['cardClass'][carta].upper())\n",
        "      idd.append(aux_dataframe['id'][carta])\n",
        "  except:\n",
        "    continue\n",
        "\n"
      ]
    },
    {
      "cell_type": "code",
      "execution_count": 22,
      "metadata": {
        "colab": {
          "base_uri": "https://localhost:8080/",
          "height": 255
        },
        "colab_type": "code",
        "id": "hTE6Mpqxw_Jj",
        "outputId": "de0b9ac4-ffc0-43ee-e55c-505e8c8ddbf4",
        "vscode": {
          "languageId": "python"
        }
      },
      "outputs": [
        {
          "name": "stdout",
          "output_type": "stream",
          "text": [
            "                    Names        Embeddings    Class       ID\n",
            "0             Fallen Hero   [2, 4, 4, 3, 4]     MAGE   AT_003\n",
            "1        Dalaran Aspirant   [1, 3, 5, 4, 5]     MAGE   AT_006\n",
            "2            Spellslinger   [3, 6, 3, 3, 2]     MAGE   AT_007\n",
            "3                  Rhonin   [1, 1, 1, 1, 5]     MAGE   AT_009\n",
            "4            Ram Wrangler   [3, 7, 3, 1, 2]   HUNTER   AT_010\n",
            "..                    ...               ...      ...      ...\n",
            "395      EVIL Conscripter  [3, 10, 4, 3, 3]   PRIEST  DAL_413\n",
            "396        EVIL Miscreant   [3, 7, 2, 3, 4]    ROGUE  DAL_415\n",
            "397    Hench-Clan Burglar  [7, 4, 8, 3, 16]    ROGUE  DAL_416\n",
            "398  Heistbaron Togwaggle   [6, 6, 6, 3, 3]    ROGUE  DAL_417\n",
            "399   Arch-Villain Rafaam   [3, 7, 2, 3, 5]  WARLOCK  DAL_422\n",
            "\n",
            "[400 rows x 4 columns]\n"
          ]
        }
      ],
      "source": [
        "\n",
        "df = pd.DataFrame({'Names': nombres_cartas, 'Embeddings': embeddings_cartas, 'Class': ll, 'ID': idd}) # el dataframe de resumen, sus embeddings aún no informan si cada carta petenece a un mazo profesional\n",
        "print(df)\n"
      ]
    },
    {
      "cell_type": "markdown",
      "metadata": {
        "colab_type": "text",
        "id": "nIqwwRNQj_N3"
      },
      "source": [
        "**Procesar History of Hearthstone**"
      ]
    },
    {
      "cell_type": "code",
      "execution_count": 23,
      "metadata": {
        "colab": {
          "base_uri": "https://localhost:8080/",
          "height": 493
        },
        "colab_type": "code",
        "id": "Mt-HXl6py1GM",
        "outputId": "1ac47814-c8ee-41c9-de7c-63544be32332",
        "vscode": {
          "languageId": "python"
        }
      },
      "outputs": [
        {
          "name": "stdout",
          "output_type": "stream",
          "text": [
            "        deck_id deck_class  card_0  card_1  ...  card_26  card_27  card_28  card_29\n",
            "0        433004     Priest       9     237  ...     2683     2736     2568     2883\n",
            "1        433003    Warrior      75      75  ...     2078     2510     2729     2736\n",
            "2        433002       Mage     195     195  ...     2064     2078    38710    38710\n",
            "3        433001    Warrior      75     290  ...     2729     2729     2736     2760\n",
            "4        432997    Paladin     476     476  ...     2717     2717     2889     2889\n",
            "...         ...        ...     ...     ...  ...      ...      ...      ...      ...\n",
            "346227   495042    Paladin     251     251  ...    38781    38781    38911    38911\n",
            "346228   427586      Rogue     180     180  ...     1372     1651     2884     2884\n",
            "346229   427574    Paladin     250     290  ...     2889     2901     2949     2951\n",
            "346230   427571      Druid      64      64  ...     2782     2948    38319    38319\n",
            "346231   427572    Warlock      48      48  ...     2288     2288     2895     2895\n",
            "\n",
            "[346232 rows x 32 columns]\n",
            "                artist  attack cardClass  ...  classes  multiClassGroup  collectionText\n",
            "0         Jakub Kasper     4.0   NEUTRAL  ...      NaN              NaN             NaN\n",
            "1                  NaN     4.0   NEUTRAL  ...      NaN              NaN             NaN\n",
            "2                  NaN     NaN   NEUTRAL  ...      NaN              NaN             NaN\n",
            "3     Mauricio Herrera     3.0   WARRIOR  ...      NaN              NaN             NaN\n",
            "4               Ittoku     2.0   NEUTRAL  ...      NaN              NaN             NaN\n",
            "...                ...     ...       ...  ...      ...              ...             ...\n",
            "3112               NaN     NaN   NEUTRAL  ...      NaN              NaN             NaN\n",
            "3113         Mike Sass     6.0   NEUTRAL  ...      NaN              NaN             NaN\n",
            "3114      Sean McNally     NaN     DRUID  ...      NaN              NaN             NaN\n",
            "3115               NaN     2.0     ROGUE  ...      NaN              NaN             NaN\n",
            "3116               NaN     NaN     DRUID  ...      NaN              NaN             NaN\n",
            "\n",
            "[3116 rows x 32 columns]\n"
          ]
        }
      ],
      "source": [
        "# Select deck_df attributes to use as reference\n",
        "available_cards = deck_df[['deck_id', 'deck_class', 'card_0', 'card_1', 'card_2', 'card_3', 'card_4', 'card_5', 'card_6', 'card_7', 'card_8', 'card_9', 'card_10', 'card_11', 'card_12', 'card_13', 'card_14', 'card_15', 'card_16', 'card_17', 'card_18', 'card_19', 'card_20', 'card_21', 'card_22', 'card_23', 'card_24', 'card_25', 'card_26', 'card_27', 'card_28', 'card_29']]\n",
        "#kaggle_json = cards_kaggle[pd.notnull(cards_kaggle['attack'])]\n",
        "#kaggle_json = kaggle_json[pd.notnull(kaggle_json['id'])]\n",
        "kaggle_json = cards_kaggle[pd.notnull(cards_kaggle['name'])] # solo importa que las cartas referenciadas tengan su nombre para buscarlas en hearthstone json\n",
        "#kaggle_json = kaggle_json[pd.notnull(kaggle_json['cost'])]\n",
        "#kaggle_json = kaggle_json[pd.notnull(kaggle_json['health'])]\n",
        "#kaggle_json = kaggle_json[pd.notnull(kaggle_json['mechanics'])]\n",
        "#kaggle_json = kaggle_json[pd.notnull(kaggle_json['rarity'])]\n",
        "# kaggle_json = kaggle_json.reset_index(drop=True)\n",
        "print(available_cards)\n",
        "print(kaggle_json)\n",
        "\n",
        "#kaggle_json['value'] = kaggle_json.index\n",
        "#coded_cards = []\n",
        "\n",
        "#for item in range(0, len(kaggle_json['value'])):\n",
        "#    value = kaggle_json.iat[item, kaggle_json.columns.get_loc('value')]\n",
        "#    if value not in coded_cards:\n",
        "#      coded_cards.append(value)\n",
        "\n",
        "#print(coded_cards)\n",
        "\n",
        "#for i in range(2, 32): # solo las columnas de cartas\n",
        "#  columna = available_cards.iloc[:,i]\n",
        "#  for b in range(0, len(columna)):\n",
        "#    valor = columna.iloc[b]\n",
        "#    if valor not in coded_cards:\n",
        "#        available_cards.iat[b, i] = -1"
      ]
    },
    {
      "cell_type": "code",
      "execution_count": 24,
      "metadata": {
        "colab": {
          "base_uri": "https://localhost:8080/",
          "height": 272
        },
        "colab_type": "code",
        "id": "v0bWHH3tNOxs",
        "outputId": "a00e0c4c-3c87-483c-b000-a85e2354b128",
        "vscode": {
          "languageId": "python"
        }
      },
      "outputs": [
        {
          "name": "stdout",
          "output_type": "stream",
          "text": [
            "(346232, 32)\n",
            "        deck_id deck_class  card_0  card_1  ...  card_26  card_27  card_28  card_29\n",
            "0        433004     Priest       9     237  ...     2683     2736     2568     2883\n",
            "1        433003    Warrior      75      75  ...     2078     2510     2729     2736\n",
            "2        433002       Mage     195     195  ...     2064     2078    38710    38710\n",
            "3        433001    Warrior      75     290  ...     2729     2729     2736     2760\n",
            "4        432997    Paladin     476     476  ...     2717     2717     2889     2889\n",
            "...         ...        ...     ...     ...  ...      ...      ...      ...      ...\n",
            "346227   495042    Paladin     251     251  ...    38781    38781    38911    38911\n",
            "346228   427586      Rogue     180     180  ...     1372     1651     2884     2884\n",
            "346229   427574    Paladin     250     290  ...     2889     2901     2949     2951\n",
            "346230   427571      Druid      64      64  ...     2782     2948    38319    38319\n",
            "346231   427572    Warlock      48      48  ...     2288     2288     2895     2895\n",
            "\n",
            "[346232 rows x 32 columns]\n"
          ]
        }
      ],
      "source": [
        "print(available_cards.shape)\n",
        "#print(available_cards.iloc[162054, :])\n",
        "print(available_cards)\n",
        "#final_cards = available_cards\n",
        "\n",
        "#for num in range(0,29):\n",
        "#  final_cards = final_cards.drop(final_cards[final_cards['card_'+str(num)] == -1].index) \n",
        "\n",
        "#for u in range(0, len(final_cards_1['deck_id'])):\n",
        "#  roww = final_cards_1.iloc[u,2:32]\n",
        "#  ok = 0\n",
        "#  for y in range(0, len(roww)):\n",
        "#    if roww.iloc[y] != -1:\n",
        "#      ok = 1\n",
        "#  if ok == 0:\n",
        "#    final_cards = final_cards.drop(final_cards.index[u])\n",
        "\n",
        "#print(final_cards.shape)\n",
        "#print(final_cards)\n",
        "\n",
        "# final cards no da información relevante así que por ahora no trabajaremoscon cartas como miembros de un mazo en particular, solo importa que las cartas estén en los mazos profesionales"
      ]
    },
    {
      "cell_type": "code",
      "execution_count": null,
      "metadata": {
        "colab": {},
        "colab_type": "code",
        "id": "KT2cxqx3bjJD",
        "vscode": {
          "languageId": "python"
        }
      },
      "outputs": [],
      "source": [
        "# Basándose en los contenidos de refs.json sepuede saber instantáneamente cuáles cartas son profesionales, si no lo fueran no estarían presentes\n",
        "# Por eso solo se usan sus nombres para buscar las cartas en el dataframe anterior\n",
        "nombres_kaggle = kaggle_json['name']\n",
        "hearthstone_cards = df['Names']\n",
        "dff = df # Se copia por si se mete la pata para no tener que ejecutar la otras celdas de nuevo\n",
        "\n",
        "for cartas in range(0, len(hearthstone_cards)):\n",
        "  nombre = hearthstone_cards.iloc[cartas]\n",
        "  indice = dff.index[dff['Names'] == nombre]\n",
        "  if len(dff.iat[indice[0], 1]) < 6:\n",
        "    if nombre in nombres_kaggle.unique():\n",
        "      dff.iat[indice[0], 1] = np.append(dff.iat[indice[0], 1], 1) # Si la carta se encontró en el dataframe se agrega un 1 final a su embedding\n",
        "    else:\n",
        "      dff.iat[indice[0], 1] = np.append(dff.iat[indice[0], 1], 0) # En caso contrario se agrega un 0"
      ]
    },
    {
      "cell_type": "code",
      "execution_count": 26,
      "metadata": {
        "colab": {
          "base_uri": "https://localhost:8080/",
          "height": 255
        },
        "colab_type": "code",
        "id": "hUTjuICsiTuh",
        "outputId": "6e8cc092-65b5-42a7-b96a-78507aa3fd28",
        "vscode": {
          "languageId": "python"
        }
      },
      "outputs": [
        {
          "name": "stdout",
          "output_type": "stream",
          "text": [
            "                    Names           Embeddings    Class       ID\n",
            "0             Fallen Hero   [2, 4, 4, 3, 4, 1]     MAGE   AT_003\n",
            "1        Dalaran Aspirant   [1, 3, 5, 4, 5, 1]     MAGE   AT_006\n",
            "2            Spellslinger   [3, 6, 3, 3, 2, 1]     MAGE   AT_007\n",
            "3                  Rhonin   [1, 1, 1, 1, 5, 1]     MAGE   AT_009\n",
            "4            Ram Wrangler   [3, 7, 3, 1, 2, 1]   HUNTER   AT_010\n",
            "..                    ...                  ...      ...      ...\n",
            "395      EVIL Conscripter  [3, 10, 4, 3, 3, 0]   PRIEST  DAL_413\n",
            "396        EVIL Miscreant   [3, 7, 2, 3, 4, 0]    ROGUE  DAL_415\n",
            "397    Hench-Clan Burglar  [7, 4, 8, 3, 16, 0]    ROGUE  DAL_416\n",
            "398  Heistbaron Togwaggle   [6, 6, 6, 3, 3, 0]    ROGUE  DAL_417\n",
            "399   Arch-Villain Rafaam   [3, 7, 2, 3, 5, 0]  WARLOCK  DAL_422\n",
            "\n",
            "[400 rows x 4 columns]\n"
          ]
        }
      ],
      "source": [
        "print(dff)"
      ]
    },
    {
      "cell_type": "markdown",
      "metadata": {
        "colab_type": "text",
        "id": "8SPvyHltj42f"
      },
      "source": [
        "**Procesar Collect-O-Bot**"
      ]
    },
    {
      "cell_type": "code",
      "execution_count": 27,
      "metadata": {
        "colab": {
          "base_uri": "https://localhost:8080/",
          "height": 255
        },
        "colab_type": "code",
        "id": "O8-ZoukPjw3_",
        "outputId": "b99edecd-c369-4aaf-8d9b-2c4897094f9f",
        "vscode": {
          "languageId": "python"
        }
      },
      "outputs": [
        {
          "name": "stdout",
          "output_type": "stream",
          "text": [
            "      User     Hero                                              Cards\n",
            "0        0  WARRIOR  [Blackwing Corruptor, Blackwing Corruptor, Twi...\n",
            "1        1  WARRIOR  [Alexstrasza's Champion, Blackwing Corruptor, ...\n",
            "2        2  WARRIOR             [Twilight Guardian, Twilight Guardian]\n",
            "3        3  WARRIOR                                 [Drakonid Crusher]\n",
            "4        4  WARRIOR        [Alexstrasza's Champion, Twilight Guardian]\n",
            "...    ...      ...                                                ...\n",
            "7864  7864   SHAMAN      [Totem Golem, Flame Juggler, Tuskarr Totemic]\n",
            "7865  7865   SHAMAN  [Flame Juggler, Totem Golem, Tuskarr Totemic, ...\n",
            "7866  7866   SHAMAN    [Flame Juggler, Flame Juggler, Tuskarr Totemic]\n",
            "7867  7867  WARLOCK  [Voidwalker, Imp Gang Boss, Blood Imp, Abusive...\n",
            "7868  7868   HUNTER                                     [King's Elekk]\n",
            "\n",
            "[7869 rows x 3 columns]\n"
          ]
        }
      ],
      "source": [
        "user_history = games_history['games'] # solo importan los contenidos de los juegos en los que cada usaurio demostro su mazo propio\n",
        "\n",
        "users = []\n",
        "heroes = []\n",
        "games_played = []\n",
        "cards_played = []\n",
        "available_cards = dff['Names'].unique()\n",
        "\n",
        "i = 0 # se agrega un identificador no personalizado para cada mazo, no importa que un mismo usuario tenga varios mazos porque \n",
        "# cuando uno construye un mazo en la práctica juega como distintos héroes, o 'usuarios'. Incluso se pueden crear varios mazos para un solo héroe, solo importan sus composiciones y el héroe.\n",
        "for num in range(0, len(user_history)):\n",
        "  history = user_history[num]\n",
        "  plays = history['card_history']\n",
        "  if len(plays) >0: # si en el juego se jugaron cartas entonces se incluye al usuario\n",
        "    users.append(str(i))\n",
        "    heroes.append(history['hero'].upper())\n",
        "    games_played.append(plays)\n",
        "    i += 1\n",
        "\n",
        "for game in games_played: # procesar cada juego para hallar las cartas\n",
        "  temp_cards = []\n",
        "  for turn in game: # son diccionarios que describen quien jugo en que turno y cual carta uso\n",
        "    if turn['player'] == 'me': # esto indica que jugo el usuario y no su oponente\n",
        "      card = turn['card']['name']\n",
        "      if card in available_cards: # solo se agregan las cartas que tienen embeddings OPCIONAL: y que sean unicas\n",
        "        temp_cards.append(card)\n",
        "  cards_played.append(temp_cards)\n",
        "user_data = pd.DataFrame({'User': users, 'Hero': heroes, 'Cards': cards_played})\n",
        "print(user_data) # esta bien que se repitan los usuarios porque en cada juego usa un mazo distinto"
      ]
    },
    {
      "cell_type": "markdown",
      "metadata": {
        "colab_type": "text",
        "id": "f9M-ThWW7_SQ"
      },
      "source": [
        "**Uso de Embeddings con Datos de Usuarios**"
      ]
    },
    {
      "cell_type": "markdown",
      "metadata": {
        "colab_type": "text",
        "id": "2Gg_Nycm__wO"
      },
      "source": [
        "Normalización de datos y reducción de dimensionalidad"
      ]
    },
    {
      "cell_type": "code",
      "execution_count": null,
      "metadata": {
        "colab": {},
        "colab_type": "code",
        "id": "X_SK32yt8G4V",
        "vscode": {
          "languageId": "python"
        }
      },
      "outputs": [],
      "source": [
        "indices_a_carta = {}\n",
        "carta_a_indice = {}\n",
        "\n",
        "\n",
        "rows = dff.shape[0]\n",
        "columns = dff['Embeddings'][0].shape[0]\n",
        "\n",
        "\n",
        "embeddings_matrix = np.empty(shape=(rows, columns))\n",
        "serie_name = dff['Names']\n",
        "\n",
        "for k, cardd in enumerate(serie_name): # se crea matriz de embeddings\n",
        "  indices_a_carta[k] = cardd\n",
        "  indice_carta = serie_name[serie_name == cardd].index[0]\n",
        "  carta_a_indice[cardd] = k\n",
        "  embeddings_matrix[k] = dff['Embeddings'][indice_carta]\n",
        "\n",
        "\n",
        "  # FUNCIONES PARA LA SANIDAD MENTAL\n",
        "\n",
        "def embedding_x_indice(indice): # funcion para no estribir un rosario cada vez que se quiera sacar un simple embedding\n",
        "  return dff['Embeddings'][serie_name[serie_name == indices_a_carta[indice]].index[0]]\n",
        "\n",
        "def nombre_x_indice(indice): # lo mismo pero para nombres de cartas\n",
        "  return dff['Names'][serie_name[serie_name == indices_a_carta[indice]].index[0]]"
      ]
    },
    {
      "cell_type": "code",
      "execution_count": 29,
      "metadata": {
        "colab": {
          "base_uri": "https://localhost:8080/",
          "height": 34
        },
        "colab_type": "code",
        "id": "W-Mamq8uGezN",
        "outputId": "52e8890f-7f97-42d7-e353-e229972d4125",
        "vscode": {
          "languageId": "python"
        }
      },
      "outputs": [
        {
          "data": {
            "text/plain": [
              "([2.0, 4.0, 4.0, 3.0, 4.0, 1.0], array([2, 4, 4, 3, 4, 1]))"
            ]
          },
          "execution_count": 29,
          "metadata": {
            "tags": []
          },
          "output_type": "execute_result"
        }
      ],
      "source": [
        "list(embeddings_matrix[0])[0:20], embedding_x_indice(0) # revisar si la matriz quedó bien construída"
      ]
    },
    {
      "cell_type": "markdown",
      "metadata": {
        "colab_type": "text",
        "id": "0YvwB_yjI5Rz"
      },
      "source": [
        "### Ahora usar Scaler:"
      ]
    },
    {
      "cell_type": "code",
      "execution_count": null,
      "metadata": {
        "colab": {},
        "colab_type": "code",
        "id": "TYl4SWrvI0zD",
        "vscode": {
          "languageId": "python"
        }
      },
      "outputs": [],
      "source": [
        "scaler = StandardScaler()\n",
        "scaled_embeddings = scaler.fit_transform(embeddings_matrix)"
      ]
    },
    {
      "cell_type": "code",
      "execution_count": null,
      "metadata": {
        "colab": {},
        "colab_type": "code",
        "id": "BhSvzSDfKAiL",
        "vscode": {
          "languageId": "python"
        }
      },
      "outputs": [],
      "source": [
        "# definimos funcion para aplicar pca\n",
        "def pca_it(n_components, matrix):\n",
        "  pca = PCA(n_components=n_components)\n",
        "  return pca.fit_transform(matrix)"
      ]
    },
    {
      "cell_type": "code",
      "execution_count": null,
      "metadata": {
        "colab": {},
        "colab_type": "code",
        "id": "CSGDaJWfKDLb",
        "vscode": {
          "languageId": "python"
        }
      },
      "outputs": [],
      "source": [
        "pca3 = pca_it(TEST_1, scaled_embeddings)\n",
        "pca6 = pca_it(TEST_2, scaled_embeddings)"
      ]
    },
    {
      "cell_type": "markdown",
      "metadata": {
        "colab_type": "text",
        "id": "Bfa7LcNlMDr-"
      },
      "source": [
        "**Definición de scores**"
      ]
    },
    {
      "cell_type": "markdown",
      "metadata": {
        "colab_type": "text",
        "id": "fFzb7bKOMb7j"
      },
      "source": [
        "*Train-test split*"
      ]
    },
    {
      "cell_type": "code",
      "execution_count": null,
      "metadata": {
        "colab": {},
        "colab_type": "code",
        "id": "bLUVBMI0KV2i",
        "vscode": {
          "languageId": "python"
        }
      },
      "outputs": [],
      "source": [
        "SPLIT = 0.7 # porcentaje de mazos en training\n",
        "\n",
        "rows_data = user_data.shape[0]\n",
        "columns_data = user_data.shape[1]\n",
        "\n",
        "userss = []\n",
        "heros = []\n",
        "cards_train = []\n",
        "cards_test = []\n",
        "\n",
        "\n",
        "\n",
        "for a in range(0, len(user_data)): # el split se hace en las cartas de cada mazo que el usuario posee, ya que no hay repetición de mazos\n",
        "  if len(user_data['Cards'][a]) > 10: # para que el split funcione se usan mazos con más de 10 cartas\n",
        "    #print(len(user_data['Cards'][a]))\n",
        "    #print(int(SPLIT*len(user_data['Cards'][a])))\n",
        "    userss.append(user_data['User'][a])\n",
        "    heros.append(user_data['Hero'][a])\n",
        "    splitind = int(SPLIT*len(user_data['Cards'][a]))\n",
        "\n",
        "    cards_train.append(user_data['Cards'][a][0:splitind])\n",
        "    cards_test.append(user_data['Cards'][a][splitind+1:len(user_data['Cards'][a])])\n",
        "\n",
        "TRAIN_SET = pd.DataFrame({'User': userss, 'Hero': heros, 'Cards': cards_train})\n",
        "TEST_SET = pd.DataFrame({'User': userss, 'Hero': heros, 'Cards': cards_test})"
      ]
    },
    {
      "cell_type": "code",
      "execution_count": 34,
      "metadata": {
        "colab": {
          "base_uri": "https://localhost:8080/",
          "height": 527
        },
        "colab_type": "code",
        "id": "kDjkNn42Nh8i",
        "outputId": "93baf1fa-0979-4cab-ffcf-7cb41a6843e2",
        "vscode": {
          "languageId": "python"
        }
      },
      "outputs": [
        {
          "name": "stdout",
          "output_type": "stream",
          "text": [
            "    User     Hero                                              Cards\n",
            "0    559  WARLOCK  [Imp Gang Boss, Voidwalker, Imp Gang Boss, Abu...\n",
            "1    733    ROGUE  [Imp Gang Boss, Dragon Egg, Undercity Valiant,...\n",
            "2   2020  WARLOCK  [Imp Gang Boss, Flame Juggler, Imp Gang Boss, ...\n",
            "3   2028   SHAMAN  [Totem Golem, Totem Golem, Tuskarr Totemic, Fi...\n",
            "4   3015  WARLOCK  [Imp Gang Boss, Blackwing Technician, Twilight...\n",
            "5   3293   PRIEST  [Wyrmrest Agent, Northshire Cleric, Blackwing ...\n",
            "6   3404     MAGE  [Flamewaker, Flamewaker, Mirror Image, Mirror ...\n",
            "7   3908   PRIEST  [Injured Blademaster, Northshire Cleric, Justi...\n",
            "8   4055  WARLOCK  [Voidwalker, Imp Gang Boss, Abusive Sergeant, ...\n",
            "9   4081   SHAMAN  [Tuskarr Totemic, Totem Golem, Flame Juggler, ...\n",
            "10  6164  WARLOCK  [Abusive Sergeant, Abusive Sergeant, Abusive S...\n",
            "11  6710   SHAMAN  [Flame Juggler, Abusive Sergeant, Argent Horse...\n",
            "12  6810   SHAMAN  [Tuskarr Totemic, Flame Juggler, Abusive Serge...\n",
            "13  7578  WARLOCK  [Voidwalker, Blackwing Corruptor, Imp Gang Bos...\n",
            "    User     Hero                                              Cards\n",
            "0    559  WARLOCK  [Imp Gang Boss, Imp Gang Boss, Abusive Sergean...\n",
            "1    733    ROGUE  [Undercity Valiant, Undercity Valiant, Piloted...\n",
            "2   2020  WARLOCK   [Flame Juggler, Imp Gang Boss, Abusive Sergeant]\n",
            "3   2028   SHAMAN  [Wrath of Air Totem, Tuskarr Totemic, Fire Ele...\n",
            "4   3015  WARLOCK  [Abusive Sergeant, Blackwing Technician, Abusi...\n",
            "5   3293   PRIEST   [Twilight Whelp, Wyrmrest Agent, Twilight Whelp]\n",
            "6   3404     MAGE        [Water Elemental, Mirror Image, Flamewaker]\n",
            "7   3908   PRIEST      [Aviana, Eadric the Pure, Justicar Trueheart]\n",
            "8   4055  WARLOCK  [Blackwing Technician, Twilight Guardian, Imp ...\n",
            "9   4081   SHAMAN  [Totem Golem, Abusive Sergeant, Argent Horseri...\n",
            "10  6164  WARLOCK   [Abusive Sergeant, Flame Juggler, Imp Gang Boss]\n",
            "11  6710   SHAMAN  [Tuskarr Totemic, Tuskarr Totemic, Argent Hors...\n",
            "12  6810   SHAMAN  [Argent Horserider, Totem Golem, Argent Horser...\n",
            "13  7578  WARLOCK  [Blackwing Technician, Voidwalker, Twilight Gu...\n"
          ]
        }
      ],
      "source": [
        "print(TRAIN_SET)\n",
        "print(TEST_SET)"
      ]
    },
    {
      "cell_type": "code",
      "execution_count": 35,
      "metadata": {
        "colab": {
          "base_uri": "https://localhost:8080/",
          "height": 238
        },
        "colab_type": "code",
        "id": "CE6ULorrPLm8",
        "outputId": "dc2aeda9-b794-45e9-fb40-76cf80671dff",
        "vscode": {
          "languageId": "python"
        }
      },
      "outputs": [
        {
          "name": "stdout",
          "output_type": "stream",
          "text": [
            "[[ 1.          0.87649897  0.83233384 ... -0.95847476 -0.48000752\n",
            "   0.01543798]\n",
            " [ 0.87649897  1.          0.7774217  ... -0.70902726 -0.08269984\n",
            "   0.49485551]\n",
            " [ 0.83233384  0.7774217   1.         ... -0.72444786 -0.04293448\n",
            "   0.11753604]\n",
            " ...\n",
            " [-0.95847476 -0.70902726 -0.72444786 ...  1.          0.69585577\n",
            "   0.25824938]\n",
            " [-0.48000752 -0.08269984 -0.04293448 ...  0.69585577  1.\n",
            "   0.69969484]\n",
            " [ 0.01543798  0.49485551  0.11753604 ...  0.25824938  0.69969484\n",
            "   1.        ]]\n"
          ]
        }
      ],
      "source": [
        "sim_matrix3 = np.empty(shape=(rows,rows))\n",
        "#print(sim_matrix)\n",
        "for k in range(rows):\n",
        "  for j in range(k,rows):\n",
        "    if j==k:\n",
        "      sim_matrix3[k,j] = 1\n",
        "    else:\n",
        "      result = np.dot(pca3[k],pca3[j])/(np.linalg.norm(pca3[k],2)*np.linalg.norm(pca3[j],2))\n",
        "      sim_matrix3[k,j] = result\n",
        "      sim_matrix3[j,k] = result\n",
        "print(sim_matrix3)"
      ]
    },
    {
      "cell_type": "code",
      "execution_count": 36,
      "metadata": {
        "colab": {
          "base_uri": "https://localhost:8080/",
          "height": 238
        },
        "colab_type": "code",
        "id": "tUXGr1rNPvk7",
        "outputId": "a06d00ee-bf47-4e84-c96a-9adfcbe7e32c",
        "vscode": {
          "languageId": "python"
        }
      },
      "outputs": [
        {
          "name": "stdout",
          "output_type": "stream",
          "text": [
            "[[ 1.          0.89173912  0.75019418 ... -0.63809176 -0.4827033\n",
            "  -0.07040302]\n",
            " [ 0.89173912  1.          0.50003262 ... -0.23970419 -0.26242206\n",
            "  -0.06413713]\n",
            " [ 0.75019418  0.50003262  1.         ... -0.73559523 -0.18914865\n",
            "   0.27042634]\n",
            " ...\n",
            " [-0.63809176 -0.23970419 -0.73559523 ...  1.          0.55115409\n",
            "  -0.02132221]\n",
            " [-0.4827033  -0.26242206 -0.18914865 ...  0.55115409  1.\n",
            "   0.48984741]\n",
            " [-0.07040302 -0.06413713  0.27042634 ... -0.02132221  0.48984741\n",
            "   1.        ]]\n"
          ]
        }
      ],
      "source": [
        "sim_matrix6 = np.empty(shape=(rows,rows))\n",
        "#print(sim_matrix)\n",
        "for k in range(rows):\n",
        "  for j in range(k,rows):\n",
        "    if j==k:\n",
        "      sim_matrix6[k,j] = 1\n",
        "    else:\n",
        "      result = np.dot(pca6[k],pca6[j])/(np.linalg.norm(pca6[k],2)*np.linalg.norm(pca6[j],2))\n",
        "      sim_matrix6[k,j] = result\n",
        "      sim_matrix6[j,k] = result\n",
        "print(sim_matrix6)"
      ]
    },
    {
      "cell_type": "markdown",
      "metadata": {
        "colab_type": "text",
        "id": "0ZmVRJQPTcyi"
      },
      "source": [
        "*Métricas*"
      ]
    },
    {
      "cell_type": "code",
      "execution_count": null,
      "metadata": {
        "colab": {},
        "colab_type": "code",
        "id": "e1UTqYHkQABS",
        "vscode": {
          "languageId": "python"
        }
      },
      "outputs": [],
      "source": [
        "def consumed(user):\n",
        "  raise 'ValueError'\n",
        "\n",
        "def consumido(user): # va a buscar las cartas de mazo de un usuario de training set\n",
        "  ref = TRAIN_SET['User']\n",
        "  return TRAIN_SET['Cards'][ref[ref == user].index[0]]\n",
        "\n",
        "consumidos = {}\n",
        "for user in TRAIN_SET['User'].unique():\n",
        "  consumed = consumido(user)\n",
        "  consumidos[user] = [carta_a_indice[str(cart)] for cart in consumed]\n",
        "\n",
        "def consumido_t(user): # va a buscar las cartas de mazo de un usuario de testing set\n",
        "  ref = TEST_SET['User']\n",
        "  return TEST_SET['Cards'][ref[ref == user].index[0]]\n",
        "\n",
        "consumidos_ocultos = {}\n",
        "for user in TEST_SET['User'].unique():\n",
        "  consumed = consumido_t(user)\n",
        "  consumidos_ocultos[user] = [carta_a_indice[str(cart)] for cart in consumed]\n",
        "\n",
        "def maximum(user,i, embeddings):\n",
        "  if embeddings.shape[1]==TEST_1:\n",
        "    scores = [sim_matrix3[j,i] for j in consumidos[user]]\n",
        "  if embeddings.shape[1]==TEST_2:\n",
        "    scores = [sim_matrix6[j,i] for j in consumidos[user]]\n",
        "  return np.array(scores).max()\n",
        "\n",
        "def average(user,i,embeddings):\n",
        "  if embeddings.shape[1]==TEST_1:\n",
        "    return np.average([sim_matrix3[j,i] for j in consumidos[user]])\n",
        "  return np.average([sim_matrix6[j,i] for j in consumidos[user]])\n",
        "\n",
        "def topk(k,user,i,embeddings):\n",
        "  if embeddings.shape[1]==TEST_1:\n",
        "    scores = [sim_matrix3[j,i] for j in consumidos[user]]\n",
        "  if embeddings.shape[1]==TEST_2:\n",
        "    scores = [sim_matrix6[j,i] for j in consumidos[user]]\n",
        "  if k<len(scores): # average de los top k\n",
        "    return np.average(np.sort(scores)[::-1][0:k])\n",
        "  return np.average(scores)"
      ]
    },
    {
      "cell_type": "markdown",
      "metadata": {
        "colab_type": "text",
        "id": "USZAuAqKTjr6"
      },
      "source": [
        "**Definición de funciones de evaluación**"
      ]
    },
    {
      "cell_type": "code",
      "execution_count": null,
      "metadata": {
        "colab": {},
        "colab_type": "code",
        "id": "SBtQKV8STaOD",
        "vscode": {
          "languageId": "python"
        }
      },
      "outputs": [],
      "source": [
        "def get_scores(u, model, embeddings, k=None):\n",
        "  if k:\n",
        "    return np.array([model(k, u, i, embeddings) for i in range(len(embeddings))])\n",
        "  return np.array([model(u, i, embeddings) for i in range(len(embeddings))])\n",
        "\n",
        "\n",
        "def recommend(user, model, n, embeddings, k=None):\n",
        "  scores = get_scores(user, model, embeddings, k)\n",
        "  selected = []\n",
        "  while len(selected)<n:\n",
        "    top_rec = np.argmax(scores)\n",
        "    if top_rec not in consumidos[user]:\n",
        "      selected.append(top_rec)\n",
        "      scores[top_rec] = - np.infty\n",
        "    else:\n",
        "      scores[top_rec] = - np.infty\n",
        "  return selected\n",
        " \n",
        "\n",
        "\n",
        "def check_recommendation(user, recommendation):\n",
        "  # genera una lista de tuplas de la forma (carta, relevante)\n",
        "  out = []\n",
        "  cons = consumidos_ocultos[user]\n",
        "  relevant = len(cons)\n",
        "  for c in recommendation:\n",
        "    if c in cons:\n",
        "      out.append((c,1)) # la carta recomendada fue consumida por el usuario\n",
        "    else:\n",
        "      out.append((c,0)) # la carta recomendada no fue consumida por el usuario\n",
        "  return out, relevant"
      ]
    },
    {
      "cell_type": "code",
      "execution_count": null,
      "metadata": {
        "colab": {},
        "colab_type": "code",
        "id": "U7axzQKoUHx5",
        "vscode": {
          "languageId": "python"
        }
      },
      "outputs": [],
      "source": [
        "# para calculo de MAP\n",
        "\n",
        "def precision_at_k(recommendation_relevant, k):\n",
        "  # recibe una lista de check recommendation\n",
        "  result = 0\n",
        "  for i in range(k):\n",
        "    result += recommendation_relevant[i][1]\n",
        "  return result/(k+1)\n",
        "\n",
        "def average_precision_at_k(k, recommendation_relevant, relevant):\n",
        "  suma = 0\n",
        "  for i in range(k):\n",
        "    suma += precision_at_k(recommendation_relevant[:i+1], i) * recommendation_relevant[i][1]\n",
        "  if relevant == 0:\n",
        "    relevant = 1\n",
        "  return suma/min(relevant, k)\n",
        "\n",
        "\n",
        "def mean_average_precision(average_precision_list):\n",
        "  return np.mean(average_precision_list)"
      ]
    },
    {
      "cell_type": "code",
      "execution_count": null,
      "metadata": {
        "colab": {},
        "colab_type": "code",
        "id": "FZF0ZiE3UMZh",
        "vscode": {
          "languageId": "python"
        }
      },
      "outputs": [],
      "source": [
        "# para calculo de nDCG\n",
        "\n",
        "def dcg_at_k(recommendation_relevant, k):\n",
        "  result = 0\n",
        "  for i in range(k):\n",
        "    result += (2**recommendation_relevant[i][1] -1)/math.log(i+2, 2)\n",
        "  return result\n",
        "    \n",
        "def get_rel(element):\n",
        "  return element[1]\n",
        "\n",
        "def ndcg_at_k(recommendation_relevant, k):\n",
        "  idcg = dcg_at_k(sorted(recommendation_relevant, reverse=True, key=get_rel), k)\n",
        "  if idcg != 0:\n",
        "    return dcg_at_k(recommendation_relevant, k)/idcg\n",
        "  return 0\n",
        "\n",
        "def mean_ndcg(ndcg_list):\n",
        "  return np.mean(ndcg_list)"
      ]
    },
    {
      "cell_type": "markdown",
      "metadata": {
        "colab_type": "text",
        "id": "844rWVC0UoiR"
      },
      "source": [
        "# Comparación de modelos"
      ]
    },
    {
      "cell_type": "code",
      "execution_count": null,
      "metadata": {
        "colab": {},
        "colab_type": "code",
        "id": "q3mRZXTSUtqp",
        "vscode": {
          "languageId": "python"
        }
      },
      "outputs": [],
      "source": [
        "users = random.sample(list(TRAIN_SET['User'].unique()), 10)"
      ]
    },
    {
      "cell_type": "code",
      "execution_count": 42,
      "metadata": {
        "colab": {
          "base_uri": "https://localhost:8080/",
          "height": 187
        },
        "colab_type": "code",
        "id": "ZqbrP1wTU9bD",
        "outputId": "e45c037c-5033-47b4-b8b8-0a292b2aae67",
        "vscode": {
          "languageId": "python"
        }
      },
      "outputs": [
        {
          "name": "stdout",
          "output_type": "stream",
          "text": [
            "[[-0.61148457 -0.4299355  -0.45808815]\n",
            " [-0.50052934 -0.83756606 -0.22576136]\n",
            " [-0.22619053 -0.73475382 -0.92763261]\n",
            " ...\n",
            " [ 2.04201807  0.5740497   1.48215238]\n",
            " [ 1.48360903 -0.81810024  0.38309754]\n",
            " [ 0.39901424 -1.49779952  0.8212923 ]]\n",
            "K = 10\n",
            "K = 20\n",
            "K = 30\n"
          ]
        }
      ],
      "source": [
        "# selección del mejor k \n",
        "k_values = [10, 20, 30]\n",
        "#k_values = [3]\n",
        "print(pca3)\n",
        "\n",
        "\n",
        "map3 = []\n",
        "ndcg3 = []\n",
        "\n",
        "map6 = []\n",
        "ndcg6 = []\n",
        "\n",
        "file = open(\"drive/My Drive/Proy_recsys/output/topk.txt\", \"w+\")\n",
        "output = \"Los valores de K testeados fueron\\nK = [10, 20, 30]\\n\"\n",
        "\n",
        "for k in k_values:\n",
        "  print('K =', k)\n",
        "  \n",
        "  average_precision_at_k_list3 = []\n",
        "  ndcg_at_k_list3 = []\n",
        "  \n",
        "  average_precision_at_k_list6 = []\n",
        "  ndcg_at_k_list6 = []\n",
        "  \n",
        "  for user in users:\n",
        "    #print(users.index(user))\n",
        "    # make recommendation\n",
        "    out3, relevant3 = check_recommendation(user, recommend(user, topk, 10, pca3, k)) #pca3\n",
        "    out6, relevant6 = check_recommendation(user, recommend(user, topk, 10, pca6, k)) #pca6\n",
        "    #print('Usuario', user, ' --  recomendación hecha')\n",
        "    \n",
        "    # evaluar\n",
        "    average_precision_at_k_list3.append(average_precision_at_k(10, out3, relevant3))\n",
        "    ndcg_at_k_list3.append(ndcg_at_k(out3, 10))\n",
        "    \n",
        "    average_precision_at_k_list6.append(average_precision_at_k(10, out6, relevant6))\n",
        "    ndcg_at_k_list6.append(ndcg_at_k(out6, 10))\n",
        "    \n",
        "  map3.append(mean_average_precision(average_precision_at_k_list3))\n",
        "  ndcg3.append(mean_ndcg(ndcg_at_k_list3))\n",
        "  \n",
        "  map6.append(mean_average_precision(average_precision_at_k_list6))\n",
        "  ndcg6.append(mean_ndcg(ndcg_at_k_list6))\n",
        "\n",
        "output += \"\\nMAP@10 para PCA3: \" + str(map3)\n",
        "output += \"\\nnDCG@10 para PCA3: \" + str(ndcg3)\n",
        "\n",
        "output+= \"\\nMAP@10 para PCA6: \" + str(map6)\n",
        "output += \"\\nnDCG@10 para PCA6: \" + str(ndcg6)\n",
        "\n",
        "file.write(output)\n",
        "file.close()"
      ]
    },
    {
      "cell_type": "markdown",
      "metadata": {
        "colab_type": "text",
        "id": "4lD6ze8Xjujy"
      },
      "source": [
        "# Recomendación"
      ]
    },
    {
      "cell_type": "markdown",
      "metadata": {
        "colab_type": "text",
        "id": "xBEMEpaFkfLw"
      },
      "source": [
        "## Estudio para un usuario cualquiera"
      ]
    },
    {
      "cell_type": "code",
      "execution_count": 43,
      "metadata": {
        "colab": {
          "base_uri": "https://localhost:8080/",
          "height": 34
        },
        "colab_type": "code",
        "id": "grArnhcpjyWK",
        "outputId": "41052eaf-e97b-4bba-a384-26e91067138d",
        "vscode": {
          "languageId": "python"
        }
      },
      "outputs": [
        {
          "name": "stdout",
          "output_type": "stream",
          "text": [
            "3404 8 MAGE\n"
          ]
        }
      ],
      "source": [
        "user = random.choice(list(TRAIN_SET['User'].unique()))\n",
        "print(user, len(consumidos[user]), TRAIN_SET['Hero'][TRAIN_SET[TRAIN_SET['User']==user].index[0]])\n",
        "user_index = TRAIN_SET[TRAIN_SET['User'] == user].index[0]\n",
        "user_class = TRAIN_SET['Hero'][user_index]"
      ]
    },
    {
      "cell_type": "markdown",
      "metadata": {
        "colab_type": "text",
        "id": "dgXkGUyNQpgS"
      },
      "source": [
        "**Se comparan las cartas recomendadas**"
      ]
    },
    {
      "cell_type": "code",
      "execution_count": 44,
      "metadata": {
        "colab": {
          "base_uri": "https://localhost:8080/",
          "height": 357
        },
        "colab_type": "code",
        "id": "VroK423aQuVf",
        "outputId": "ef0dd33e-37fa-401c-c075-8aef9612fe77",
        "vscode": {
          "languageId": "python"
        }
      },
      "outputs": [
        {
          "name": "stdout",
          "output_type": "stream",
          "text": [
            "![alt text](https://art.hearthstonejson.com/v1/render/latest/enUS/256x/BRM_002.png)\n",
            "![alt text](https://art.hearthstonejson.com/v1/render/latest/enUS/256x/BRM_002.png)\n",
            "![alt text](https://art.hearthstonejson.com/v1/render/latest/enUS/256x/CS2_mirror.png)\n",
            "![alt text](https://art.hearthstonejson.com/v1/render/latest/enUS/256x/CS2_mirror.png)\n",
            "![alt text](https://art.hearthstonejson.com/v1/render/latest/enUS/256x/CS2_033.png)\n",
            "![alt text](https://art.hearthstonejson.com/v1/render/latest/enUS/256x/CS2_033.png)\n",
            "![alt text](https://art.hearthstonejson.com/v1/render/latest/enUS/256x/BRM_002.png)\n",
            "![alt text](https://art.hearthstonejson.com/v1/render/latest/enUS/256x/CS2_033.png)\n",
            "0       AT_003\n",
            "1       AT_006\n",
            "2       AT_007\n",
            "3       AT_009\n",
            "4       AT_010\n",
            "        ...   \n",
            "395    DAL_413\n",
            "396    DAL_415\n",
            "397    DAL_416\n",
            "398    DAL_417\n",
            "399    DAL_422\n",
            "Name: ID, Length: 400, dtype: object\n"
          ]
        }
      ],
      "source": [
        "for i in consumidos[user]:\n",
        "  indx = indices_a_carta[i]\n",
        "  inx = dff[dff['Names'] == indx].index[0]\n",
        "  id = dff['ID'][inx]\n",
        "  print(\"![alt text](https://art.hearthstonejson.com/v1/render/latest/enUS/256x/{}.png)\".format(id))\n",
        "print(dff['ID'])"
      ]
    },
    {
      "cell_type": "markdown",
      "metadata": {
        "colab_type": "text",
        "id": "3UiU_xchSsef"
      },
      "source": [
        "![alt text](https://art.hearthstonejson.com/v1/render/latest/enUS/256x/BRM_002.png)\n",
        "![alt text](https://art.hearthstonejson.com/v1/render/latest/enUS/256x/BRM_002.png)\n",
        "![alt text](https://art.hearthstonejson.com/v1/render/latest/enUS/256x/CS2_mirror.png)\n",
        "![alt text](https://art.hearthstonejson.com/v1/render/latest/enUS/256x/CS2_mirror.png)\n",
        "![alt text](https://art.hearthstonejson.com/v1/render/latest/enUS/256x/CS2_033.png)\n",
        "![alt text](https://art.hearthstonejson.com/v1/render/latest/enUS/256x/CS2_033.png)\n",
        "![alt text](https://art.hearthstonejson.com/v1/render/latest/enUS/256x/BRM_002.png)\n",
        "![alt text](https://art.hearthstonejson.com/v1/render/latest/enUS/256x/CS2_033.png)"
      ]
    },
    {
      "cell_type": "code",
      "execution_count": 45,
      "metadata": {
        "colab": {
          "base_uri": "https://localhost:8080/",
          "height": 544
        },
        "colab_type": "code",
        "id": "BP2a8IAyUlmw",
        "outputId": "ed2766e1-6e92-4891-85b2-dd8d6d8ab27d",
        "vscode": {
          "languageId": "python"
        }
      },
      "outputs": [
        {
          "name": "stdout",
          "output_type": "stream",
          "text": [
            "[87, 51, 293, 230, 249, 74, 336, 67, 241, 81]\n",
            "The Skeleton Knight  &  0.42201321099281525 & \\\\\n",
            "\\hline\n",
            "Saboteur  &  0.4060555546131495 & \\\\\n",
            "\\hline\n",
            "Krul the Unshackled  &  0.40474223501817896 & \\\\\n",
            "\\hline\n",
            "Mistress of Mixtures  &  0.4022027293021573 & \\\\\n",
            "\\hline\n",
            "Fel Orc Soulfiend  &  0.4021406460382213 & \\\\\n",
            "\\hline\n",
            "Recruiter  &  0.39606332385715637 & \\\\\n",
            "\\hline\n",
            "Gnomish Inventor  &  0.39494820097892414 & \\\\\n",
            "\\hline\n",
            "Injured Kvaldir  &  0.38304612312344655 & \\\\\n",
            "\\hline\n",
            "Shaky Zipgunner  &  0.3780024026318138 & \\\\\n",
            "\\hline\n",
            "Crowd Favorite  &  0.37747815986313005 & \\\\\n",
            "\\hline\n",
            "![alt text](https://art.hearthstonejson.com/v1/render/latest/enUS/256x/AT_128.png)\n",
            "![alt text](https://art.hearthstonejson.com/v1/render/latest/enUS/256x/AT_086.png)\n",
            "![alt text](https://art.hearthstonejson.com/v1/render/latest/enUS/256x/CFM_750.png)\n",
            "![alt text](https://art.hearthstonejson.com/v1/render/latest/enUS/256x/CFM_120.png)\n",
            "![alt text](https://art.hearthstonejson.com/v1/render/latest/enUS/256x/CFM_609.png)\n",
            "![alt text](https://art.hearthstonejson.com/v1/render/latest/enUS/256x/AT_113.png)\n",
            "![alt text](https://art.hearthstonejson.com/v1/render/latest/enUS/256x/CS2_147.png)\n",
            "![alt text](https://art.hearthstonejson.com/v1/render/latest/enUS/256x/AT_105.png)\n",
            "![alt text](https://art.hearthstonejson.com/v1/render/latest/enUS/256x/CFM_336.png)\n",
            "![alt text](https://art.hearthstonejson.com/v1/render/latest/enUS/256x/AT_121.png)\n"
          ]
        }
      ],
      "source": [
        "rec1 = recommend(user, average, 10, pca3) # por los resultados anteriores pca3 es mejr\n",
        "print(rec1)\n",
        "for i in rec1:\n",
        "  print(indices_a_carta[i],\" & \", average(user, i, pca3), \"& \\\\\\\\\")\n",
        "  # print(\"![alt text](http://niebla.ing.puc.cl/iic3633-2019/imagenes_tarea/{}.jpg)\".format(indices_a_imagen[i]))\n",
        "  print(\"\\\\hline\")\n",
        "\n",
        "for i in rec1:\n",
        "  indx = indices_a_carta[i]\n",
        "  inx = dff[dff['Names'] == indx].index[0]\n",
        "  id = dff['ID'][inx]\n",
        "  print(\"![alt text](https://art.hearthstonejson.com/v1/render/latest/enUS/256x/{}.png)\".format(id))"
      ]
    },
    {
      "cell_type": "markdown",
      "metadata": {
        "colab_type": "text",
        "id": "Duiy_F37VX1Q"
      },
      "source": [
        "![alt text](https://art.hearthstonejson.com/v1/render/latest/enUS/256x/AT_128.png)\n",
        "![alt text](https://art.hearthstonejson.com/v1/render/latest/enUS/256x/AT_086.png)\n",
        "![alt text](https://art.hearthstonejson.com/v1/render/latest/enUS/256x/CFM_750.png)\n",
        "![alt text](https://art.hearthstonejson.com/v1/render/latest/enUS/256x/CFM_120.png)\n",
        "![alt text](https://art.hearthstonejson.com/v1/render/latest/enUS/256x/CFM_609.png)\n",
        "![alt text](https://art.hearthstonejson.com/v1/render/latest/enUS/256x/AT_113.png)\n",
        "![alt text](https://art.hearthstonejson.com/v1/render/latest/enUS/256x/CS2_147.png)\n",
        "![alt text](https://art.hearthstonejson.com/v1/render/latest/enUS/256x/AT_105.png)\n",
        "![alt text](https://art.hearthstonejson.com/v1/render/latest/enUS/256x/CFM_336.png)\n",
        "![alt text](https://art.hearthstonejson.com/v1/render/latest/enUS/256x/AT_121.png)"
      ]
    },
    {
      "cell_type": "code",
      "execution_count": 46,
      "metadata": {
        "colab": {
          "base_uri": "https://localhost:8080/",
          "height": 54
        },
        "colab_type": "code",
        "id": "6poPg-i8WNof",
        "outputId": "65eb8520-ba89-4eb1-c865-35019155b287",
        "vscode": {
          "languageId": "python"
        }
      },
      "outputs": [
        {
          "name": "stdout",
          "output_type": "stream",
          "text": [
            "{'559': ['Dispatch Kodo', 'Leatherclad Hogleader', 'Aviana', 'Dragon Consort', 'Abyssal Enforcer', 'Eydis Darkbane', 'Shadow Sensei', 'Chromaggus', \"Anub'arak\", 'Public Defender'], '733': ['Doppelgangster', 'Doppelgangster', 'Doppelgangster', 'Stormpike Commando', 'Ironforge Rifleman', 'Tiny Knight of Evil', 'Majordomo Executus', 'Kazakus', 'Genzo, the Shark', 'Mirror Image'], '2020': ['Abyssal Enforcer', 'Public Defender', 'Leatherclad Hogleader', 'Kabal Courier', 'Dragon Consort', 'Kabal Talonpriest', 'Dispatch Kodo', 'Shadow Sensei', 'Confessor Paletress', 'Eydis Darkbane'], '2028': ['Twilight Guardian', 'Gormok the Impaler', 'Wickerflame Burnbristle', 'Aya Blackpaw', 'Kabal Lackey', 'Volcanic Lumberer', 'Finja, the Flying Star', 'Ram Wrangler', 'Grimestreet Smuggler', \"Sneed's Old Shredder\"], '3015': ['Backroom Bouncer', 'Genzo, the Shark', 'Mayor Noggenfogger', 'Goldshire Footman', 'Ironbark Protector', \"King's Elekk\", 'Jade Chieftain', 'Grimestreet Enforcer', 'Tiny Knight of Evil', 'Majordomo Executus'], '3293': ['Stormwind Knight', 'Justicar Trueheart', 'Streetwise Investigator', 'Kabal Chemist', 'Volcanic Lumberer', 'Finja, the Flying Star', 'Lowly Squire', 'Stormwind Champion', 'Mounted Raptor', 'Refreshment Vendor'], '3404': ['The Skeleton Knight', 'Saboteur', 'Krul the Unshackled', 'Mistress of Mixtures', 'Fel Orc Soulfiend', 'Recruiter', 'Gnomish Inventor', 'Injured Kvaldir', 'Shaky Zipgunner', 'Crowd Favorite'], '3908': ['Kabal Chemist', 'Mounted Raptor', 'Volcanic Lumberer', 'Finja, the Flying Star', 'Druid of the Saber', 'Druid of the Saber', 'Druid of the Saber', 'Stormwind Knight', 'Wolfrider', 'Grimestreet Enforcer'], '4055': ['Saboteur', 'Recruiter', 'Holy Champion', 'Mistress of Mixtures', 'Kabal Talonpriest', 'Naga Corsair', 'Dragon Consort', 'Krul the Unshackled', 'Ram Wrangler', 'Mirror Image'], '4081': ['Wilfred Fizzlebang', 'Raza the Chained', 'Inkmaster Solia', 'Flamewaker', 'Spellslinger', 'Lance Carrier', 'Varian Wrynn', 'Jade Swarmer', 'Grimestreet Pawnbroker', 'Silver Hand Regent'], '6164': ['Sparring Partner', \"Mogor's Champion\", 'Celestial Dreamer', 'Shaku, the Collector', 'Dread Infernal', 'Lotus Assassin', 'Wind-up Burglebot', 'Crystalweaver', 'Dark Iron Skulker', \"Anub'arak\"], '6710': ['Maiden of the Lake', 'Street Trickster', 'Armored Warhorse', 'Grimscale Chum', 'Kabal Trafficker', 'Primalfin Lookout', \"Sen'jin Shieldmasta\", 'Razorfen Hunter', 'Draenei Totemcarver', 'Friendly Bartender'], '6810': ['Raza the Chained', 'Grimestreet Pawnbroker', 'Wilfred Fizzlebang', 'Jade Swarmer', 'Inkmaster Solia', 'Lance Carrier', 'Flamewaker', 'Spellslinger', 'Varian Wrynn', \"Sneed's Old Shredder\"], '7578': ['Druid of the Saber', 'Druid of the Saber', 'Druid of the Saber', 'Injured Blademaster', 'Grimestreet Enforcer', 'Mayor Noggenfogger', 'Goldshire Footman', 'Ironbark Protector', 'Wyrmrest Agent', 'Tuskarr Totemic']}\n"
          ]
        }
      ],
      "source": [
        "recomendaciones = {}\n",
        "for usr in range(0, len(TRAIN_SET['User'])):\n",
        "  user = TRAIN_SET['User'][usr]\n",
        "  rec = recommend(user, average, 10, pca3)\n",
        "  recomendaciones[str(user)] = [indices_a_carta[carta] for carta in rec]\n",
        "\n",
        "print(recomendaciones)"
      ]
    },
    {
      "cell_type": "code",
      "execution_count": null,
      "metadata": {
        "colab": {},
        "colab_type": "code",
        "id": "kKN0L7e-Xi7o",
        "vscode": {
          "languageId": "python"
        }
      },
      "outputs": [],
      "source": [
        "file = open(\"drive/My Drive/Proy_recsys/recomendaciones_cartas.txt\", \"w+\")\n",
        "output = \"{\"\n",
        "for user, rec in recomendaciones.items():\n",
        "  output += \"\\n'\" + str(user) + \"':\" + str(rec) + \",\"\n",
        "\n",
        "output.strip(\",\")\n",
        "output += \"\\n}\"\n",
        "\n",
        "file.write(output)\n",
        "file.close()\n",
        "#print(output)"
      ]
    },
    {
      "cell_type": "markdown",
      "metadata": {
        "colab_type": "text",
        "id": "Nl_wv0C5ePLX"
      },
      "source": [
        "## Incluir consideraciones de mazos con cartas exclusivas por clase de héroe"
      ]
    },
    {
      "cell_type": "code",
      "execution_count": 48,
      "metadata": {
        "colab": {
          "base_uri": "https://localhost:8080/",
          "height": 544
        },
        "colab_type": "code",
        "id": "x5IqpVVMeUR9",
        "outputId": "7d767a85-ca73-4195-db44-c2cab55c5348",
        "vscode": {
          "languageId": "python"
        }
      },
      "outputs": [
        {
          "name": "stdout",
          "output_type": "stream",
          "text": [
            "[282, 227, 361, 3, 0, 285, 198, 2, 1, 319]\n",
            "Cryomancer  &  0.4738092459877174 & \\\\\n",
            "\\hline\n",
            "Kabal Lackey  &  0.4536171228962949 & \\\\\n",
            "\\hline\n",
            "Mirror Image  &  0.4391486354965729 & \\\\\n",
            "\\hline\n",
            "Rhonin  &  0.4323312712626147 & \\\\\n",
            "\\hline\n",
            "Fallen Hero  &  0.32590604855466704 & \\\\\n",
            "\\hline\n",
            "Inkmaster Solia  &  0.21659214629211873 & \\\\\n",
            "\\hline\n",
            "Flamewaker  &  0.18709732934808662 & \\\\\n",
            "\\hline\n",
            "Spellslinger  &  0.14431576283793987 & \\\\\n",
            "\\hline\n",
            "Dalaran Aspirant  &  0.13063471873144897 & \\\\\n",
            "\\hline\n",
            "Water Elemental  &  -0.17325477125978672 & \\\\\n",
            "\\hline\n",
            "![alt text](https://art.hearthstonejson.com/v1/render/latest/enUS/256x/CFM_671.png)\n",
            "![alt text](https://art.hearthstonejson.com/v1/render/latest/enUS/256x/CFM_066.png)\n",
            "![alt text](https://art.hearthstonejson.com/v1/render/latest/enUS/256x/CS2_mirror.png)\n",
            "![alt text](https://art.hearthstonejson.com/v1/render/latest/enUS/256x/AT_009.png)\n",
            "![alt text](https://art.hearthstonejson.com/v1/render/latest/enUS/256x/AT_003.png)\n",
            "![alt text](https://art.hearthstonejson.com/v1/render/latest/enUS/256x/CFM_687.png)\n",
            "![alt text](https://art.hearthstonejson.com/v1/render/latest/enUS/256x/BRM_002.png)\n",
            "![alt text](https://art.hearthstonejson.com/v1/render/latest/enUS/256x/AT_007.png)\n",
            "![alt text](https://art.hearthstonejson.com/v1/render/latest/enUS/256x/AT_006.png)\n",
            "![alt text](https://art.hearthstonejson.com/v1/render/latest/enUS/256x/CS2_033.png)\n"
          ]
        }
      ],
      "source": [
        "\n",
        "\n",
        "def recommend_hero(user, average, k, pcaa, class_exclusive=0):\n",
        "  rec22 = []\n",
        "  incr = 0\n",
        "  while (len(rec22) < k): # recomendar hasta que todas las cartas sean de la clase del héroe usado  \n",
        "    rec = recommend(user, average, k + 2*incr, pcaa) # por los resultados anteriores pca3 es mejor\n",
        "    for card in rec:\n",
        "      indxr = indices_a_carta[card]\n",
        "      inxr = dff[dff['Names'] == indxr].index[0]\n",
        "      idr = dff['Class'][inxr]\n",
        "      if (class_exclusive == 0):\n",
        "        if (idr == user_class or idr == 'NEUTRAL') and card not in rec22:\n",
        "          rec22.append(card)\n",
        "      else:\n",
        "        if (idr == user_class) and card not in rec22:\n",
        "          rec22.append(card)\n",
        "    incr += 1\n",
        "  return rec22[0:k]\n",
        "\n",
        "# SOLO DE CLASE DEL HÉROE\n",
        "rec2 = recommend_hero(user, average, 10, pca3, 1) # le exijo recomendar solo cartas de la clase del héroe\n",
        "print(rec2)\n",
        "for i in rec2:\n",
        "  print(indices_a_carta[i],\" & \", average(user, i, pca3), \"& \\\\\\\\\")\n",
        "  # print(\"![alt text](http://niebla.ing.puc.cl/iic3633-2019/imagenes_tarea/{}.jpg)\".format(indices_a_imagen[i]))\n",
        "  print(\"\\\\hline\")\n",
        "\n",
        "for i in rec2:\n",
        "  indx = indices_a_carta[i]\n",
        "  inx = dff[dff['Names'] == indx].index[0]\n",
        "  id = dff['ID'][inx]\n",
        "  print(\"![alt text](https://art.hearthstonejson.com/v1/render/latest/enUS/256x/{}.png)\".format(id))"
      ]
    },
    {
      "cell_type": "markdown",
      "metadata": {
        "colab_type": "text",
        "id": "181eDZmthQVX"
      },
      "source": [
        "![alt text](https://art.hearthstonejson.com/v1/render/latest/enUS/256x/CFM_671.png)\n",
        "![alt text](https://art.hearthstonejson.com/v1/render/latest/enUS/256x/CFM_066.png)\n",
        "![alt text](https://art.hearthstonejson.com/v1/render/latest/enUS/256x/CS2_mirror.png)\n",
        "![alt text](https://art.hearthstonejson.com/v1/render/latest/enUS/256x/AT_009.png)\n",
        "![alt text](https://art.hearthstonejson.com/v1/render/latest/enUS/256x/AT_003.png)\n",
        "![alt text](https://art.hearthstonejson.com/v1/render/latest/enUS/256x/CFM_687.png)\n",
        "![alt text](https://art.hearthstonejson.com/v1/render/latest/enUS/256x/BRM_002.png)\n",
        "![alt text](https://art.hearthstonejson.com/v1/render/latest/enUS/256x/AT_007.png)\n",
        "![alt text](https://art.hearthstonejson.com/v1/render/latest/enUS/256x/AT_006.png)\n",
        "![alt text](https://art.hearthstonejson.com/v1/render/latest/enUS/256x/CS2_033.png)"
      ]
    },
    {
      "cell_type": "code",
      "execution_count": 49,
      "metadata": {
        "colab": {
          "base_uri": "https://localhost:8080/",
          "height": 544
        },
        "colab_type": "code",
        "id": "FISIS2bqwuTl",
        "outputId": "98db5fc9-6d21-4881-e913-a8e652909572",
        "vscode": {
          "languageId": "python"
        }
      },
      "outputs": [
        {
          "name": "stdout",
          "output_type": "stream",
          "text": [
            "[346, 281, 317, 305, 330, 271, 84, 315, 304, 238]\n",
            "Injured Blademaster  &  0.4899895751431261 & \\\\\n",
            "\\hline\n",
            "Mayor Noggenfogger  &  0.48930727409940583 & \\\\\n",
            "\\hline\n",
            "Goldshire Footman  &  0.48930727409940583 & \\\\\n",
            "\\hline\n",
            "Tanaris Hogchopper  &  0.48560678928310613 & \\\\\n",
            "\\hline\n",
            "Wolfrider  &  0.4855539291868718 & \\\\\n",
            "\\hline\n",
            "Backroom Bouncer  &  0.483472582653849 & \\\\\n",
            "\\hline\n",
            "Bolf Ramshield  &  0.48019173019324757 & \\\\\n",
            "\\hline\n",
            "Aya Blackpaw  &  0.4795125783002852 & \\\\\n",
            "\\hline\n",
            "Genzo, the Shark  &  0.4784450075155386 & \\\\\n",
            "\\hline\n",
            "Fight Promoter  &  0.4767375645302762 & \\\\\n",
            "\\hline\n",
            "![alt text](https://art.hearthstonejson.com/v1/render/latest/enUS/256x/CS2_181.png)\n",
            "![alt text](https://art.hearthstonejson.com/v1/render/latest/enUS/256x/CFM_670.png)\n",
            "![alt text](https://art.hearthstonejson.com/v1/render/latest/enUS/256x/CS1_042.png)\n",
            "![alt text](https://art.hearthstonejson.com/v1/render/latest/enUS/256x/CFM_809.png)\n",
            "![alt text](https://art.hearthstonejson.com/v1/render/latest/enUS/256x/CS2_124.png)\n",
            "![alt text](https://art.hearthstonejson.com/v1/render/latest/enUS/256x/CFM_658.png)\n",
            "![alt text](https://art.hearthstonejson.com/v1/render/latest/enUS/256x/AT_124.png)\n",
            "![alt text](https://art.hearthstonejson.com/v1/render/latest/enUS/256x/CFM_902.png)\n",
            "![alt text](https://art.hearthstonejson.com/v1/render/latest/enUS/256x/CFM_808.png)\n",
            "![alt text](https://art.hearthstonejson.com/v1/render/latest/enUS/256x/CFM_328.png)\n"
          ]
        }
      ],
      "source": [
        "# DE CLASE DEL HÉROE Y NEUTRALES\n",
        "rec2 = recommend_hero(user, average, 10, pca3, 0) # le exijo recomendar solo cartas de la clase del héroe\n",
        "print(rec2)\n",
        "for i in rec2:\n",
        "  print(indices_a_carta[i],\" & \", average(user, i, pca3), \"& \\\\\\\\\")\n",
        "  # print(\"![alt text](http://niebla.ing.puc.cl/iic3633-2019/imagenes_tarea/{}.jpg)\".format(indices_a_imagen[i]))\n",
        "  print(\"\\\\hline\")\n",
        "\n",
        "for i in rec2:\n",
        "  indx = indices_a_carta[i]\n",
        "  inx = dff[dff['Names'] == indx].index[0]\n",
        "  id = dff['ID'][inx]\n",
        "  print(\"![alt text](https://art.hearthstonejson.com/v1/render/latest/enUS/256x/{}.png)\".format(id))"
      ]
    },
    {
      "cell_type": "markdown",
      "metadata": {
        "colab_type": "text",
        "id": "TRgYo9Sfxb3B"
      },
      "source": [
        "![alt text](https://art.hearthstonejson.com/v1/render/latest/enUS/256x/CS2_181.png)\n",
        "![alt text](https://art.hearthstonejson.com/v1/render/latest/enUS/256x/CFM_670.png)\n",
        "![alt text](https://art.hearthstonejson.com/v1/render/latest/enUS/256x/CS1_042.png)\n",
        "![alt text](https://art.hearthstonejson.com/v1/render/latest/enUS/256x/CFM_809.png)\n",
        "![alt text](https://art.hearthstonejson.com/v1/render/latest/enUS/256x/CS2_124.png)\n",
        "![alt text](https://art.hearthstonejson.com/v1/render/latest/enUS/256x/CFM_658.png)\n",
        "![alt text](https://art.hearthstonejson.com/v1/render/latest/enUS/256x/AT_124.png)\n",
        "![alt text](https://art.hearthstonejson.com/v1/render/latest/enUS/256x/CFM_902.png)\n",
        "![alt text](https://art.hearthstonejson.com/v1/render/latest/enUS/256x/CFM_808.png)\n",
        "![alt text](https://art.hearthstonejson.com/v1/render/latest/enUS/256x/CFM_328.png)"
      ]
    },
    {
      "cell_type": "code",
      "execution_count": 50,
      "metadata": {
        "colab": {
          "base_uri": "https://localhost:8080/",
          "height": 54
        },
        "colab_type": "code",
        "id": "1by5UthlinG_",
        "outputId": "dcf137c8-06a1-4008-cfee-084649533ead",
        "vscode": {
          "languageId": "python"
        }
      },
      "outputs": [
        {
          "name": "stdout",
          "output_type": "stream",
          "text": [
            "{'559': ['Leatherclad Hogleader', 'Eydis Darkbane', 'Chromaggus', 'Gentle Megasaur', 'Kabal Courier', 'Recruiter', \"Light's Champion\", 'Sergeant Sally', 'Fjola Lightbane', \"Mogor's Champion\"], '733': ['Doppelgangster', 'Doppelgangster', 'Doppelgangster', 'Stormpike Commando', 'Ironforge Rifleman', 'Majordomo Executus', 'Kazakus', 'Genzo, the Shark', 'Mirror Image', 'Backroom Bouncer'], '2020': ['Leatherclad Hogleader', 'Kabal Courier', 'Eydis Darkbane', 'Gentle Megasaur', \"Light's Champion\", 'Recruiter', 'Sergeant Sally', 'Fjola Lightbane', 'Chromaggus', 'Mirror Image'], '2028': ['Twilight Guardian', 'Gormok the Impaler', 'Aya Blackpaw', 'Kabal Lackey', 'Finja, the Flying Star', 'Grimestreet Smuggler', \"Sneed's Old Shredder\", 'Mistress of Mixtures', 'Booty Bay Bodyguard', 'Stormwind Knight'], '3015': ['Backroom Bouncer', 'Genzo, the Shark', 'Mayor Noggenfogger', 'Goldshire Footman', 'Majordomo Executus', 'Kazakus', 'Ironforge Rifleman', 'Injured Blademaster', 'Aya Blackpaw', 'Stormpike Commando'], '3293': ['Stormwind Knight', 'Justicar Trueheart', 'Streetwise Investigator', 'Kabal Chemist', 'Finja, the Flying Star', 'Lowly Squire', 'Stormwind Champion', 'Refreshment Vendor', 'Frostwolf Warlord', 'Venture Co. Mercenary'], '3404': ['The Skeleton Knight', 'Saboteur', 'Mistress of Mixtures', 'Fel Orc Soulfiend', 'Recruiter', 'Gnomish Inventor', 'Injured Kvaldir', 'Crowd Favorite', 'Naga Corsair', 'Fencing Coach'], '3908': ['Kabal Chemist', 'Finja, the Flying Star', 'Stormwind Knight', 'Wolfrider', 'Aya Blackpaw', 'Mayor Noggenfogger', 'Goldshire Footman', 'Streetwise Investigator', 'Refreshment Vendor', 'Frostwolf Warlord'], '4055': ['Saboteur', 'Recruiter', 'Mistress of Mixtures', 'Naga Corsair', 'Mirror Image', 'Kabal Lackey', 'Sergeant Sally', \"Light's Champion\", 'Stormpike Commando', 'Majordomo Executus'], '4081': ['Inkmaster Solia', 'Flamewaker', 'Spellslinger', 'Lance Carrier', 'Silver Hand Regent', 'Master of Ceremonies', 'Gadgetzan Jouster', 'Piloted Shredder', 'Stonetusk Boar', 'Friendly Bartender'], '6164': [\"Mogor's Champion\", 'Wind-up Burglebot', 'Wrathion', 'Silver Hand Knight', 'Jade Spirit', 'Red Mana Wyrm', 'Second-Rate Bruiser', 'Master Jouster', 'Dirty Rat', 'Argent Watchman'], '6710': ['Maiden of the Lake', 'Street Trickster', 'Armored Warhorse', 'Primalfin Lookout', \"Sen'jin Shieldmasta\", 'Razorfen Hunter', 'Friendly Bartender', 'Earthen Ring Farseer', 'Gadgetzan Jouster', 'Silver Hand Regent'], '6810': ['Inkmaster Solia', 'Lance Carrier', 'Flamewaker', 'Spellslinger', \"Sneed's Old Shredder\", 'Silver Hand Regent', 'Gadgetzan Jouster', 'Master of Ceremonies', 'Piloted Shredder', 'Stonetusk Boar'], '7578': ['Injured Blademaster', 'Mayor Noggenfogger', 'Goldshire Footman', 'Tanaris Hogchopper', 'Wolfrider', 'Backroom Bouncer', 'Bolf Ramshield', 'Aya Blackpaw', 'Genzo, the Shark', 'Fight Promoter']}\n"
          ]
        }
      ],
      "source": [
        "recomendaciones = {} # para las de clase del héroe y neutrales\n",
        "for usr in range(0, len(TRAIN_SET['User'])):\n",
        "  user = TRAIN_SET['User'][usr]\n",
        "  rec = recommend_hero(user, average, 10, pca3, 0)\n",
        "  recomendaciones[str(user)] = [indices_a_carta[carta] for carta in rec]\n",
        "\n",
        "print(recomendaciones)"
      ]
    },
    {
      "cell_type": "code",
      "execution_count": null,
      "metadata": {
        "colab": {},
        "colab_type": "code",
        "id": "nydYsNHCnZVX",
        "vscode": {
          "languageId": "python"
        }
      },
      "outputs": [],
      "source": [
        "file = open(\"drive/My Drive/Proy_recsys/recomendaciones_cartas_heroes.txt\", \"w+\")\n",
        "output = \"{\"\n",
        "for user, rec in recomendaciones.items():\n",
        "  output += \"\\n'\" + str(user) + \"':\" + str(rec) + \",\"\n",
        "\n",
        "output.strip(\",\")\n",
        "output += \"\\n}\"\n",
        "\n",
        "file.write(output)\n",
        "file.close()\n",
        "#print(output)"
      ]
    },
    {
      "cell_type": "markdown",
      "metadata": {
        "colab_type": "text",
        "id": "21ujtPhH3DzC"
      },
      "source": [
        "# Comparación final con cartas por héroe"
      ]
    },
    {
      "cell_type": "code",
      "execution_count": 53,
      "metadata": {
        "colab": {
          "base_uri": "https://localhost:8080/",
          "height": 187
        },
        "colab_type": "code",
        "id": "1Ck75fqL3B_9",
        "outputId": "63a76e60-0f74-4757-a4d9-529386b9bcf4",
        "vscode": {
          "languageId": "python"
        }
      },
      "outputs": [
        {
          "name": "stdout",
          "output_type": "stream",
          "text": [
            "[[-0.61148457 -0.4299355  -0.45808815]\n",
            " [-0.50052934 -0.83756606 -0.22576136]\n",
            " [-0.22619053 -0.73475382 -0.92763261]\n",
            " ...\n",
            " [ 2.04201807  0.5740497   1.48215238]\n",
            " [ 1.48360903 -0.81810024  0.38309754]\n",
            " [ 0.39901424 -1.49779952  0.8212923 ]]\n",
            "K = 10\n",
            "K = 20\n",
            "K = 30\n"
          ]
        }
      ],
      "source": [
        "# selección del mejor k \n",
        "k_values = [10, 20, 30]\n",
        "#k_values = [3]\n",
        "print(pca3)\n",
        "\n",
        "\n",
        "map3 = []\n",
        "ndcg3 = []\n",
        "\n",
        "map6 = []\n",
        "ndcg6 = []\n",
        "\n",
        "file = open(\"drive/My Drive/Proy_recsys/output/topk.txt\", \"w+\")\n",
        "output = \"Los valores de K testeados fueron\\nK = [10, 20, 30]\\n\"\n",
        "\n",
        "for k in k_values:\n",
        "  print('K =', k)\n",
        "  \n",
        "  average_precision_at_k_list3 = []\n",
        "  ndcg_at_k_list3 = []\n",
        "  \n",
        "  average_precision_at_k_list6 = []\n",
        "  ndcg_at_k_list6 = []\n",
        "  \n",
        "  for user in users:\n",
        "    #print(users.index(user))\n",
        "    # make recommendation\n",
        "    out3, relevant3 = check_recommendation(user, recommend_hero(user, average, k, pca3, 0)) #pca3\n",
        "    out6, relevant6 = check_recommendation(user, recommend_hero(user, average, k, pca6, 0)) #pca6\n",
        "    #print('Usuario', user, ' --  recomendación hecha')\n",
        "    \n",
        "    # evaluar\n",
        "    average_precision_at_k_list3.append(average_precision_at_k(10, out3, relevant3))\n",
        "    ndcg_at_k_list3.append(ndcg_at_k(out3, 10))\n",
        "    \n",
        "    average_precision_at_k_list6.append(average_precision_at_k(10, out6, relevant6))\n",
        "    ndcg_at_k_list6.append(ndcg_at_k(out6, 10))\n",
        "    \n",
        "  map3.append(mean_average_precision(average_precision_at_k_list3))\n",
        "  ndcg3.append(mean_ndcg(ndcg_at_k_list3))\n",
        "  \n",
        "  map6.append(mean_average_precision(average_precision_at_k_list6))\n",
        "  ndcg6.append(mean_ndcg(ndcg_at_k_list6))\n",
        "\n",
        "output += \"\\nMAP@10 para PCA3: \" + str(map3)\n",
        "output += \"\\nnDCG@10 para PCA3: \" + str(ndcg3)\n",
        "\n",
        "output+= \"\\nMAP@10 para PCA6: \" + str(map6)\n",
        "output += \"\\nnDCG@10 para PCA6: \" + str(ndcg6)\n",
        "\n",
        "file.write(output)\n",
        "file.close()"
      ]
    },
    {
      "cell_type": "code",
      "execution_count": 54,
      "metadata": {
        "colab": {
          "base_uri": "https://localhost:8080/",
          "height": 486
        },
        "colab_type": "code",
        "id": "jnNwbeqQ5mIw",
        "outputId": "b10ccb33-9b30-4756-aae1-f347c0ca604d",
        "vscode": {
          "languageId": "python"
        }
      },
      "outputs": [
        {
          "name": "stdout",
          "output_type": "stream",
          "text": [
            "[[-0.61148457 -0.4299355  -0.45808815]\n",
            " [-0.50052934 -0.83756606 -0.22576136]\n",
            " [-0.22619053 -0.73475382 -0.92763261]\n",
            " ...\n",
            " [ 2.04201807  0.5740497   1.48215238]\n",
            " [ 1.48360903 -0.81810024  0.38309754]\n",
            " [ 0.39901424 -1.49779952  0.8212923 ]]\n",
            "K = 10\n"
          ]
        },
        {
          "ename": "IndexError",
          "evalue": "ignored",
          "output_type": "error",
          "traceback": [
            "\u001b[0;31m---------------------------------------------------------------------------\u001b[0m",
            "\u001b[0;31mIndexError\u001b[0m                                Traceback (most recent call last)",
            "\u001b[0;32m<ipython-input-54-f2df255c73c2>\u001b[0m in \u001b[0;36m<module>\u001b[0;34m()\u001b[0m\n\u001b[1;32m     30\u001b[0m \u001b[0;34m\u001b[0m\u001b[0m\n\u001b[1;32m     31\u001b[0m     \u001b[0;31m# evaluar\u001b[0m\u001b[0;34m\u001b[0m\u001b[0;34m\u001b[0m\u001b[0;34m\u001b[0m\u001b[0m\n\u001b[0;32m---> 32\u001b[0;31m     \u001b[0maverage_precision_at_k_list3\u001b[0m\u001b[0;34m.\u001b[0m\u001b[0mappend\u001b[0m\u001b[0;34m(\u001b[0m\u001b[0maverage_precision_at_k\u001b[0m\u001b[0;34m(\u001b[0m\u001b[0;36m20\u001b[0m\u001b[0;34m,\u001b[0m \u001b[0mout3\u001b[0m\u001b[0;34m,\u001b[0m \u001b[0mrelevant3\u001b[0m\u001b[0;34m)\u001b[0m\u001b[0;34m)\u001b[0m\u001b[0;34m\u001b[0m\u001b[0;34m\u001b[0m\u001b[0m\n\u001b[0m\u001b[1;32m     33\u001b[0m     \u001b[0mndcg_at_k_list3\u001b[0m\u001b[0;34m.\u001b[0m\u001b[0mappend\u001b[0m\u001b[0;34m(\u001b[0m\u001b[0mndcg_at_k\u001b[0m\u001b[0;34m(\u001b[0m\u001b[0mout3\u001b[0m\u001b[0;34m,\u001b[0m \u001b[0;36m20\u001b[0m\u001b[0;34m)\u001b[0m\u001b[0;34m)\u001b[0m\u001b[0;34m\u001b[0m\u001b[0;34m\u001b[0m\u001b[0m\n\u001b[1;32m     34\u001b[0m \u001b[0;34m\u001b[0m\u001b[0m\n",
            "\u001b[0;32m<ipython-input-39-0e9d357d383b>\u001b[0m in \u001b[0;36maverage_precision_at_k\u001b[0;34m(k, recommendation_relevant, relevant)\u001b[0m\n\u001b[1;32m     10\u001b[0m   \u001b[0msuma\u001b[0m \u001b[0;34m=\u001b[0m \u001b[0;36m0\u001b[0m\u001b[0;34m\u001b[0m\u001b[0;34m\u001b[0m\u001b[0m\n\u001b[1;32m     11\u001b[0m   \u001b[0;32mfor\u001b[0m \u001b[0mi\u001b[0m \u001b[0;32min\u001b[0m \u001b[0mrange\u001b[0m\u001b[0;34m(\u001b[0m\u001b[0mk\u001b[0m\u001b[0;34m)\u001b[0m\u001b[0;34m:\u001b[0m\u001b[0;34m\u001b[0m\u001b[0;34m\u001b[0m\u001b[0m\n\u001b[0;32m---> 12\u001b[0;31m     \u001b[0msuma\u001b[0m \u001b[0;34m+=\u001b[0m \u001b[0mprecision_at_k\u001b[0m\u001b[0;34m(\u001b[0m\u001b[0mrecommendation_relevant\u001b[0m\u001b[0;34m[\u001b[0m\u001b[0;34m:\u001b[0m\u001b[0mi\u001b[0m\u001b[0;34m+\u001b[0m\u001b[0;36m1\u001b[0m\u001b[0;34m]\u001b[0m\u001b[0;34m,\u001b[0m \u001b[0mi\u001b[0m\u001b[0;34m)\u001b[0m \u001b[0;34m*\u001b[0m \u001b[0mrecommendation_relevant\u001b[0m\u001b[0;34m[\u001b[0m\u001b[0mi\u001b[0m\u001b[0;34m]\u001b[0m\u001b[0;34m[\u001b[0m\u001b[0;36m1\u001b[0m\u001b[0;34m]\u001b[0m\u001b[0;34m\u001b[0m\u001b[0;34m\u001b[0m\u001b[0m\n\u001b[0m\u001b[1;32m     13\u001b[0m   \u001b[0;32mif\u001b[0m \u001b[0mrelevant\u001b[0m \u001b[0;34m==\u001b[0m \u001b[0;36m0\u001b[0m\u001b[0;34m:\u001b[0m\u001b[0;34m\u001b[0m\u001b[0;34m\u001b[0m\u001b[0m\n\u001b[1;32m     14\u001b[0m     \u001b[0mrelevant\u001b[0m \u001b[0;34m=\u001b[0m \u001b[0;36m1\u001b[0m\u001b[0;34m\u001b[0m\u001b[0;34m\u001b[0m\u001b[0m\n",
            "\u001b[0;31mIndexError\u001b[0m: list index out of range"
          ]
        }
      ],
      "source": [
        "# selección del mejor k \n",
        "k_values = [10, 20, 30]\n",
        "#k_values = [3]\n",
        "print(pca3)\n",
        "\n",
        "\n",
        "map3 = []\n",
        "ndcg3 = []\n",
        "\n",
        "map6 = []\n",
        "ndcg6 = []\n",
        "\n",
        "file = open(\"drive/My Drive/Proy_recsys/output/topk.txt\", \"w+\")\n",
        "output = \"Los valores de K testeados fueron\\nK = [10, 20, 30]\\n\"\n",
        "\n",
        "for k in k_values:\n",
        "  print('K =', k)\n",
        "  \n",
        "  average_precision_at_k_list3 = []\n",
        "  ndcg_at_k_list3 = []\n",
        "  \n",
        "  average_precision_at_k_list6 = []\n",
        "  ndcg_at_k_list6 = []\n",
        "  \n",
        "  for user in users:\n",
        "    #print(users.index(user))\n",
        "    # make recommendation\n",
        "    out3, relevant3 = check_recommendation(user, recommend_hero(user, average, k, pca3, 0)) #pca3\n",
        "    out6, relevant6 = check_recommendation(user, recommend_hero(user, average, k, pca6, 0)) #pca6\n",
        "    #print('Usuario', user, ' --  recomendación hecha')\n",
        "    \n",
        "    # evaluar\n",
        "    average_precision_at_k_list3.append(average_precision_at_k(20, out3, relevant3))\n",
        "    ndcg_at_k_list3.append(ndcg_at_k(out3, 20))\n",
        "    \n",
        "    average_precision_at_k_list6.append(average_precision_at_k(20, out6, relevant6))\n",
        "    ndcg_at_k_list6.append(ndcg_at_k(out6, 20))\n",
        "    \n",
        "  map3.append(mean_average_precision(average_precision_at_k_list3))\n",
        "  ndcg3.append(mean_ndcg(ndcg_at_k_list3))\n",
        "  \n",
        "  map6.append(mean_average_precision(average_precision_at_k_list6))\n",
        "  ndcg6.append(mean_ndcg(ndcg_at_k_list6))\n",
        "\n",
        "output += \"\\nMAP@10 para PCA3: \" + str(map3)\n",
        "output += \"\\nnDCG@10 para PCA3: \" + str(ndcg3)\n",
        "\n",
        "output+= \"\\nMAP@10 para PCA6: \" + str(map6)\n",
        "output += \"\\nnDCG@10 para PCA6: \" + str(ndcg6)\n",
        "\n",
        "file.write(output)\n",
        "file.close()"
      ]
    }
  ],
  "metadata": {
    "colab": {
      "collapsed_sections": [],
      "name": "Proyecto Recsys.ipynb",
      "provenance": []
    },
    "kernelspec": {
      "display_name": "Python 3",
      "name": "python3"
    }
  },
  "nbformat": 4,
  "nbformat_minor": 0
}
