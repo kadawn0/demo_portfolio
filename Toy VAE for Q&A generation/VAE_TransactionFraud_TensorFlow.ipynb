{
 "cells": [
  {
   "cell_type": "markdown",
   "metadata": {},
   "source": [
    "# Toy VAE for transaction fraud feature generation"
   ]
  },
  {
   "cell_type": "code",
   "execution_count": 1,
   "metadata": {},
   "outputs": [],
   "source": [
    "import os\n",
    "import time\n",
    "import tensorflow as tf\n",
    "from tensorflow.keras import backend as K\n",
    "from tensorflow.keras import layers, regularizers\n",
    "from IPython import display\n",
    "import matplotlib.pyplot as plt\n",
    "import numpy as np\n",
    "%matplotlib inline\n",
    "from tensorflow import keras\n",
    "import pandas as pd"
   ]
  },
  {
   "cell_type": "code",
   "execution_count": 2,
   "metadata": {
    "collapsed": false,
    "pycharm": {
     "name": "#%%\n"
    }
   },
   "outputs": [
    {
     "name": "stdout",
     "output_type": "stream",
     "text": [
      "Requirement already satisfied: fastparquet in c:\\programdata\\anaconda3\\lib\\site-packages (0.7.1)\n",
      "Requirement already satisfied: thrift>=0.11.0 in c:\\programdata\\anaconda3\\lib\\site-packages (from fastparquet) (0.15.0)\n",
      "Requirement already satisfied: pandas>=1.1.0 in c:\\programdata\\anaconda3\\lib\\site-packages (from fastparquet) (1.3.2)\n",
      "Requirement already satisfied: fsspec in c:\\programdata\\anaconda3\\lib\\site-packages (from fastparquet) (0.8.3)\n",
      "Requirement already satisfied: numpy>=1.18 in c:\\programdata\\anaconda3\\lib\\site-packages (from fastparquet) (1.19.5)\n",
      "Requirement already satisfied: cramjam>=2.3.0 in c:\\programdata\\anaconda3\\lib\\site-packages (from fastparquet) (2.5.0)\n",
      "Requirement already satisfied: six>=1.7.2 in c:\\programdata\\anaconda3\\lib\\site-packages (from thrift>=0.11.0->fastparquet) (1.15.0)\n",
      "Requirement already satisfied: python-dateutil>=2.7.3 in c:\\programdata\\anaconda3\\lib\\site-packages (from pandas>=1.1.0->fastparquet) (2.8.1)\n",
      "Requirement already satisfied: pytz>=2017.3 in c:\\programdata\\anaconda3\\lib\\site-packages (from pandas>=1.1.0->fastparquet) (2020.1)\n"
     ]
    }
   ],
   "source": [
    "!pip install fastparquet"
   ]
  },
  {
   "cell_type": "code",
   "execution_count": 304,
   "metadata": {},
   "outputs": [
    {
     "name": "stdout",
     "output_type": "stream",
     "text": [
      "c:\\Users\\lakat\\Downloads\\dsProject1\n"
     ]
    }
   ],
   "source": [
    "import os \n",
    "print(os.getcwd())"
   ]
  },
  {
   "cell_type": "code",
   "execution_count": 305,
   "metadata": {
    "collapsed": false,
    "pycharm": {
     "name": "#%%\n"
    }
   },
   "outputs": [],
   "source": [
    "file = os.path.join(os.getcwd()[:-10], \"fraud_detection_transactions.parquet.gzip\")\n",
    "df = pd.read_parquet(file)"
   ]
  },
  {
   "cell_type": "code",
   "execution_count": 306,
   "metadata": {},
   "outputs": [
    {
     "data": {
      "text/plain": [
       "['step',\n",
       " 'type',\n",
       " 'amount',\n",
       " 'nameOrig',\n",
       " 'oldbalanceOrg',\n",
       " 'newbalanceOrig',\n",
       " 'nameDest',\n",
       " 'oldbalanceDest',\n",
       " 'newbalanceDest',\n",
       " 'isFraud',\n",
       " 'isFlaggedFraud']"
      ]
     },
     "execution_count": 306,
     "metadata": {},
     "output_type": "execute_result"
    }
   ],
   "source": [
    "df.columns.values.tolist()"
   ]
  },
  {
   "cell_type": "code",
   "execution_count": 46,
   "metadata": {
    "collapsed": false,
    "pycharm": {
     "name": "#%%\n"
    }
   },
   "outputs": [
    {
     "data": {
      "text/html": [
       "<div>\n",
       "<style scoped>\n",
       "    .dataframe tbody tr th:only-of-type {\n",
       "        vertical-align: middle;\n",
       "    }\n",
       "\n",
       "    .dataframe tbody tr th {\n",
       "        vertical-align: top;\n",
       "    }\n",
       "\n",
       "    .dataframe thead th {\n",
       "        text-align: right;\n",
       "    }\n",
       "</style>\n",
       "<table border=\"1\" class=\"dataframe\">\n",
       "  <thead>\n",
       "    <tr style=\"text-align: right;\">\n",
       "      <th></th>\n",
       "      <th>step</th>\n",
       "      <th>type</th>\n",
       "      <th>amount</th>\n",
       "      <th>nameOrig</th>\n",
       "      <th>oldbalanceOrg</th>\n",
       "      <th>newbalanceOrig</th>\n",
       "      <th>nameDest</th>\n",
       "      <th>oldbalanceDest</th>\n",
       "      <th>newbalanceDest</th>\n",
       "      <th>isFraud</th>\n",
       "      <th>isFlaggedFraud</th>\n",
       "    </tr>\n",
       "  </thead>\n",
       "  <tbody>\n",
       "    <tr>\n",
       "      <th>0</th>\n",
       "      <td>1</td>\n",
       "      <td>PAYMENT</td>\n",
       "      <td>9839.64</td>\n",
       "      <td>C1231006815</td>\n",
       "      <td>170136.0</td>\n",
       "      <td>160296.36</td>\n",
       "      <td>M1979787155</td>\n",
       "      <td>0.0</td>\n",
       "      <td>0.0</td>\n",
       "      <td>0</td>\n",
       "      <td>0</td>\n",
       "    </tr>\n",
       "    <tr>\n",
       "      <th>1</th>\n",
       "      <td>1</td>\n",
       "      <td>PAYMENT</td>\n",
       "      <td>1864.28</td>\n",
       "      <td>C1666544295</td>\n",
       "      <td>21249.0</td>\n",
       "      <td>19384.72</td>\n",
       "      <td>M2044282225</td>\n",
       "      <td>0.0</td>\n",
       "      <td>0.0</td>\n",
       "      <td>0</td>\n",
       "      <td>0</td>\n",
       "    </tr>\n",
       "    <tr>\n",
       "      <th>2</th>\n",
       "      <td>1</td>\n",
       "      <td>TRANSFER</td>\n",
       "      <td>181.00</td>\n",
       "      <td>C1305486145</td>\n",
       "      <td>181.0</td>\n",
       "      <td>0.00</td>\n",
       "      <td>C553264065</td>\n",
       "      <td>0.0</td>\n",
       "      <td>0.0</td>\n",
       "      <td>1</td>\n",
       "      <td>0</td>\n",
       "    </tr>\n",
       "    <tr>\n",
       "      <th>3</th>\n",
       "      <td>1</td>\n",
       "      <td>CASH_OUT</td>\n",
       "      <td>181.00</td>\n",
       "      <td>C840083671</td>\n",
       "      <td>181.0</td>\n",
       "      <td>0.00</td>\n",
       "      <td>C38997010</td>\n",
       "      <td>21182.0</td>\n",
       "      <td>0.0</td>\n",
       "      <td>1</td>\n",
       "      <td>0</td>\n",
       "    </tr>\n",
       "    <tr>\n",
       "      <th>4</th>\n",
       "      <td>1</td>\n",
       "      <td>PAYMENT</td>\n",
       "      <td>11668.14</td>\n",
       "      <td>C2048537720</td>\n",
       "      <td>41554.0</td>\n",
       "      <td>29885.86</td>\n",
       "      <td>M1230701703</td>\n",
       "      <td>0.0</td>\n",
       "      <td>0.0</td>\n",
       "      <td>0</td>\n",
       "      <td>0</td>\n",
       "    </tr>\n",
       "  </tbody>\n",
       "</table>\n",
       "</div>"
      ],
      "text/plain": [
       "   step      type    amount     nameOrig  oldbalanceOrg  newbalanceOrig  \\\n",
       "0     1   PAYMENT   9839.64  C1231006815       170136.0       160296.36   \n",
       "1     1   PAYMENT   1864.28  C1666544295        21249.0        19384.72   \n",
       "2     1  TRANSFER    181.00  C1305486145          181.0            0.00   \n",
       "3     1  CASH_OUT    181.00   C840083671          181.0            0.00   \n",
       "4     1   PAYMENT  11668.14  C2048537720        41554.0        29885.86   \n",
       "\n",
       "      nameDest  oldbalanceDest  newbalanceDest  isFraud  isFlaggedFraud  \n",
       "0  M1979787155             0.0             0.0        0               0  \n",
       "1  M2044282225             0.0             0.0        0               0  \n",
       "2   C553264065             0.0             0.0        1               0  \n",
       "3    C38997010         21182.0             0.0        1               0  \n",
       "4  M1230701703             0.0             0.0        0               0  "
      ]
     },
     "execution_count": 46,
     "metadata": {},
     "output_type": "execute_result"
    }
   ],
   "source": [
    "df.head()"
   ]
  },
  {
   "cell_type": "code",
   "execution_count": 47,
   "metadata": {
    "collapsed": false,
    "pycharm": {
     "name": "#%%\n"
    }
   },
   "outputs": [],
   "source": [
    "df = df.drop(['newbalanceOrig', 'oldbalanceDest', 'newbalanceDest', 'isFlaggedFraud'], axis = 1)"
   ]
  },
  {
   "cell_type": "code",
   "execution_count": 48,
   "metadata": {},
   "outputs": [],
   "source": [
    "df = df[df.type == \"TRANSFER\"].drop([\"type\", \"nameOrig\", \"nameDest\"], axis=1)"
   ]
  },
  {
   "cell_type": "code",
   "execution_count": 49,
   "metadata": {},
   "outputs": [],
   "source": [
    "def min_max_scaling(series):\n",
    "    return (series - series.min()) / (series.max() - series.min())\n",
    "\n",
    "for col in df.columns:\n",
    "    df[col] = min_max_scaling(df[col])"
   ]
  },
  {
   "cell_type": "code",
   "execution_count": 50,
   "metadata": {
    "collapsed": false,
    "pycharm": {
     "name": "#%%\n"
    }
   },
   "outputs": [
    {
     "name": "stdout",
     "output_type": "stream",
     "text": [
      "(479619, 4) (53290, 4)\n"
     ]
    }
   ],
   "source": [
    "test_size = int(len(df) * 0.1) # the test data will be 10% (0.1) of the entire data\n",
    "train = df.iloc[:-test_size,:].copy()\n",
    "# the copy() here is important, it will prevent us from getting: SettingWithCopyWarning: A value is trying to be set on a copy of a slice from a DataFrame. Try using .loc[row_index,col_indexer] = value instead\n",
    "test = df.iloc[-test_size:,:].copy()\n",
    "print(train.shape, test.shape)"
   ]
  },
  {
   "cell_type": "code",
   "execution_count": 51,
   "metadata": {
    "collapsed": false,
    "pycharm": {
     "name": "#%%\n"
    }
   },
   "outputs": [],
   "source": [
    "x_train = train.drop(\"isFraud\", axis = 1).to_numpy()\n",
    "y_train =  train[\"isFraud\"].to_numpy()\n",
    "x_test = test.drop(\"isFraud\", axis = 1).to_numpy()\n",
    "y_test = test[\"isFraud\"].to_numpy()"
   ]
  },
  {
   "cell_type": "code",
   "execution_count": 52,
   "metadata": {},
   "outputs": [
    {
     "data": {
      "text/plain": [
       "(479619, 3)"
      ]
     },
     "execution_count": 52,
     "metadata": {},
     "output_type": "execute_result"
    }
   ],
   "source": [
    "x_train.shape"
   ]
  },
  {
   "cell_type": "code",
   "execution_count": 53,
   "metadata": {},
   "outputs": [],
   "source": [
    "x_train = x_train.astype('float32')\n",
    "x_test = x_test.astype('float32')\n",
    "#x_train = x_train / 255.\n",
    "# x_test = x_test / 255.\n",
    "# Batch and shuffle the data\n",
    "train_dataset = tf.data.Dataset.from_tensor_slices(x_train).\\\n",
    "shuffle(60000).batch(128)"
   ]
  },
  {
   "cell_type": "code",
   "execution_count": 13,
   "metadata": {
    "collapsed": false,
    "pycharm": {
     "name": "#%%\n"
    }
   },
   "outputs": [
    {
     "data": {
      "text/plain": [
       "<TakeDataset shapes: (None, 3), types: tf.float32>"
      ]
     },
     "execution_count": 13,
     "metadata": {},
     "output_type": "execute_result"
    }
   ],
   "source": [
    "train_dataset.take(1)"
   ]
  },
  {
   "cell_type": "code",
   "execution_count": 59,
   "metadata": {},
   "outputs": [],
   "source": [
    "input_encoder = (3,)\n",
    "input_decoder = (2,)"
   ]
  },
  {
   "cell_type": "markdown",
   "metadata": {},
   "source": [
    "## Encoder"
   ]
  },
  {
   "cell_type": "code",
   "execution_count": 60,
   "metadata": {},
   "outputs": [],
   "source": [
    "def sampling_model(distribution_params):\n",
    "    mean, log_var = distribution_params\n",
    "    epsilon = K.random_normal(shape=K.shape(mean), mean=0., stddev=1.)\n",
    "    print(epsilon)\n",
    "    return mean + K.exp(log_var / 2) * epsilon"
   ]
  },
  {
   "cell_type": "code",
   "execution_count": 277,
   "metadata": {},
   "outputs": [],
   "source": [
    "def encoder(input_encoder):\n",
    "    \n",
    "    inputs = keras.Input(shape=input_encoder, name='input_layer')\n",
    "    x = layers.Dense(12,\n",
    "                kernel_initializer='glorot_uniform',\n",
    "                kernel_regularizer='l2',\n",
    "                input_shape=(input_encoder[0],) \\\n",
    "               )(inputs)\n",
    "            \n",
    "    x = layers.Reshape((2,6), name='Reshape_Layer_1')(x)\n",
    "\n",
    "    x = layers.Conv1D(8, kernel_size=4, padding='same', name='conv_0')(x)\n",
    "    x = layers.LeakyReLU(name='lrelu_0')(x)\n",
    "    \n",
    "    x = layers.Conv1D(6, kernel_size=3, padding='same', name='conv_1')(x)\n",
    "    x = layers.LeakyReLU(name='lrelu_1')(x)\n",
    "\n",
    "    x = layers.Conv1D(4, kernel_size=2, padding='same', name='conv_2')(x)\n",
    "    x = layers.LeakyReLU(name='lrelu_2')(x)\n",
    "    \n",
    "    x = tf.keras.layers.LSTM(8)(x)\n",
    "\n",
    "    x = layers.Reshape((8,), name='Reshape_Layer_2')(x)\n",
    "   \n",
    "    \n",
    "    flatten = layers.Flatten()(x)\n",
    "    mean = layers.Dense(2, name='mean')(flatten)\n",
    "    log_var = layers.Dense(2, name='log_var')(flatten)\n",
    "    model = tf.keras.Model(inputs, (mean, log_var), name=\"Encoder\")\n",
    "    return model"
   ]
  },
  {
   "cell_type": "code",
   "execution_count": 278,
   "metadata": {},
   "outputs": [],
   "source": [
    "enc = encoder(input_encoder)"
   ]
  },
  {
   "cell_type": "code",
   "execution_count": 279,
   "metadata": {},
   "outputs": [
    {
     "name": "stdout",
     "output_type": "stream",
     "text": [
      "Model: \"Encoder\"\n",
      "__________________________________________________________________________________________________\n",
      "Layer (type)                    Output Shape         Param #     Connected to                     \n",
      "==================================================================================================\n",
      "input_layer (InputLayer)        [(None, 3)]          0                                            \n",
      "__________________________________________________________________________________________________\n",
      "dense_53 (Dense)                (None, 12)           48          input_layer[0][0]                \n",
      "__________________________________________________________________________________________________\n",
      "Reshape_Layer_1 (Reshape)       (None, 2, 6)         0           dense_53[0][0]                   \n",
      "__________________________________________________________________________________________________\n",
      "conv_0 (Conv1D)                 (None, 2, 8)         200         Reshape_Layer_1[0][0]            \n",
      "__________________________________________________________________________________________________\n",
      "lrelu_0 (LeakyReLU)             (None, 2, 8)         0           conv_0[0][0]                     \n",
      "__________________________________________________________________________________________________\n",
      "conv_1 (Conv1D)                 (None, 2, 6)         150         lrelu_0[0][0]                    \n",
      "__________________________________________________________________________________________________\n",
      "lrelu_1 (LeakyReLU)             (None, 2, 6)         0           conv_1[0][0]                     \n",
      "__________________________________________________________________________________________________\n",
      "conv_2 (Conv1D)                 (None, 2, 4)         52          lrelu_1[0][0]                    \n",
      "__________________________________________________________________________________________________\n",
      "lrelu_2 (LeakyReLU)             (None, 2, 4)         0           conv_2[0][0]                     \n",
      "__________________________________________________________________________________________________\n",
      "lstm_12 (LSTM)                  (None, 8)            416         lrelu_2[0][0]                    \n",
      "__________________________________________________________________________________________________\n",
      "Reshape_Layer_2 (Reshape)       (None, 8)            0           lstm_12[0][0]                    \n",
      "__________________________________________________________________________________________________\n",
      "flatten_13 (Flatten)            (None, 8)            0           Reshape_Layer_2[0][0]            \n",
      "__________________________________________________________________________________________________\n",
      "mean (Dense)                    (None, 2)            18          flatten_13[0][0]                 \n",
      "__________________________________________________________________________________________________\n",
      "log_var (Dense)                 (None, 2)            18          flatten_13[0][0]                 \n",
      "==================================================================================================\n",
      "Total params: 902\n",
      "Trainable params: 902\n",
      "Non-trainable params: 0\n",
      "__________________________________________________________________________________________________\n"
     ]
    }
   ],
   "source": [
    "enc.summary()"
   ]
  },
  {
   "cell_type": "code",
   "execution_count": 280,
   "metadata": {},
   "outputs": [
    {
     "data": {
      "text/plain": [
       "(<KerasTensor: shape=(None, 2) dtype=float32 (created by layer 'mean')>,\n",
       " <KerasTensor: shape=(None, 2) dtype=float32 (created by layer 'log_var')>)"
      ]
     },
     "execution_count": 280,
     "metadata": {},
     "output_type": "execute_result"
    }
   ],
   "source": [
    "enc.output"
   ]
  },
  {
   "cell_type": "code",
   "execution_count": 281,
   "metadata": {},
   "outputs": [],
   "source": [
    "enc.save('vae-toy_fraud-enc.h5')"
   ]
  },
  {
   "cell_type": "code",
   "execution_count": 282,
   "metadata": {},
   "outputs": [],
   "source": [
    "input_1 = (2,)\n",
    "input_2 = (2,)"
   ]
  },
  {
   "cell_type": "code",
   "execution_count": 283,
   "metadata": {},
   "outputs": [],
   "source": [
    "def sampling(input_1,input_2):\n",
    "    #input1 = layers.Lambda(sampling_model, name='encoder_output')([mean, var])\n",
    "    mean = keras.Input(shape=input_1, name='input_layer1')\n",
    "    log_var = keras.Input(shape=input_2, name='input_layer2')\n",
    "    out = layers.Lambda(sampling_model, name='encoder_output')([mean, log_var])\n",
    "    enc_2 = tf.keras.Model([mean,log_var], out,  name=\"Encoder_2\")\n",
    "    return enc_2"
   ]
  },
  {
   "cell_type": "code",
   "execution_count": 284,
   "metadata": {},
   "outputs": [
    {
     "name": "stdout",
     "output_type": "stream",
     "text": [
      "Tensor(\"encoder_output/random_normal:0\", shape=(None, 2), dtype=float32)\n"
     ]
    }
   ],
   "source": [
    "final = sampling(input_1,input_2)"
   ]
  },
  {
   "cell_type": "code",
   "execution_count": 285,
   "metadata": {},
   "outputs": [],
   "source": [
    "final.save('sampling.h5')"
   ]
  },
  {
   "cell_type": "markdown",
   "metadata": {},
   "source": [
    "## Decoder"
   ]
  },
  {
   "cell_type": "code",
   "execution_count": 290,
   "metadata": {},
   "outputs": [],
   "source": [
    "def decoder(input_decoder):\n",
    "    \n",
    "    inputs = keras.Input(shape=input_decoder, name='input_layer')\n",
    "    x = layers.Dense(12, name='dense_1')(inputs)\n",
    "    x = layers.Reshape((2,6), name='Reshape_Layer')(x)\n",
    "   \n",
    "    # Block-1\n",
    "    x = layers.Conv1D(6, kernel_size=3, padding='same', name='conv_1')(x)\n",
    "    x = layers.LeakyReLU(name='lrelu_1')(x)\n",
    "\n",
    "    # Block-2\n",
    "    x = layers.Conv1D(12, kernel_size=3, padding='same', name='conv_2')(x)\n",
    "    x = layers.LeakyReLU(name='lrelu_2')(x)\n",
    "\n",
    "    x = layers.Reshape((24,), name='Reshape_Layer_2')(x)\n",
    "    \n",
    "    x = layers.Dense(24,\n",
    "                kernel_initializer='glorot_uniform',\n",
    "                kernel_regularizer='l2',\n",
    "               )(x)\n",
    "    # Block-3\n",
    "    outputs =layers.Dense(1,\n",
    "                kernel_initializer='glorot_uniform',\n",
    "                kernel_regularizer='l2',\n",
    "               )(x)\n",
    "    model = tf.keras.Model(inputs, outputs, name=\"Decoder\")\n",
    "    return model"
   ]
  },
  {
   "cell_type": "code",
   "execution_count": 291,
   "metadata": {},
   "outputs": [],
   "source": [
    "dec = decoder(input_decoder)"
   ]
  },
  {
   "cell_type": "code",
   "execution_count": 292,
   "metadata": {},
   "outputs": [],
   "source": [
    "dec.save('vae-toy_fraud-dec.h5')"
   ]
  },
  {
   "cell_type": "code",
   "execution_count": 293,
   "metadata": {},
   "outputs": [],
   "source": [
    "optimizer = tf.keras.optimizers.Adam(lr = 0.005)"
   ]
  },
  {
   "cell_type": "markdown",
   "metadata": {},
   "source": [
    "## Metrics"
   ]
  },
  {
   "cell_type": "code",
   "execution_count": 294,
   "metadata": {},
   "outputs": [],
   "source": [
    "def mse_loss(y_true, y_pred):\n",
    "    r_loss = K.mean(K.square(y_true - y_pred), axis = [1,])\n",
    "    return 1000 * r_loss\n",
    "\n",
    "def kl_loss(mean, log_var):\n",
    "    kl_loss =  -0.5 * K.sum(1 + log_var - K.square(mean) - K.exp(log_var), axis = 1)\n",
    "    return kl_loss\n",
    "\n",
    "def vae_loss(y_true, y_pred, mean, log_var):\n",
    "    r_loss = mse_loss(y_true, y_pred)\n",
    "    kl_losss = kl_loss(mean, log_var)\n",
    "    return  r_loss + kl_losss"
   ]
  },
  {
   "cell_type": "markdown",
   "metadata": {},
   "source": [
    "## Training"
   ]
  },
  {
   "cell_type": "code",
   "execution_count": 295,
   "metadata": {},
   "outputs": [],
   "source": [
    "# Notice the use of `tf.function`\n",
    "# This annotation causes the function to be \"compiled\".\n",
    "@tf.function\n",
    "def train_step(images):\n",
    "\n",
    "    with tf.GradientTape() as encoder, tf.GradientTape() as decoder:\n",
    "      \n",
    "        mean, log_var = enc(images, training=True)\n",
    "        latent = final([mean, log_var])\n",
    "        generated_images = dec(latent, training=True)\n",
    "        loss = vae_loss(images, generated_images, mean, log_var)\n",
    "\n",
    "        \n",
    "    gradients_of_enc = encoder.gradient(loss, enc.trainable_variables)\n",
    "    gradients_of_dec = decoder.gradient(loss, dec.trainable_variables)\n",
    "    \n",
    "    \n",
    "    optimizer.apply_gradients(zip(gradients_of_enc, enc.trainable_variables))\n",
    "    optimizer.apply_gradients(zip(gradients_of_dec, dec.trainable_variables))\n",
    "    return loss"
   ]
  },
  {
   "cell_type": "code",
   "execution_count": 296,
   "metadata": {},
   "outputs": [],
   "source": [
    "os.makedirs('tf_vae/toy_fraud/training_weights', exist_ok=True)\n",
    "os.makedirs('tf_vae/toy_fraud/images', exist_ok=True)"
   ]
  },
  {
   "cell_type": "code",
   "execution_count": 297,
   "metadata": {},
   "outputs": [],
   "source": [
    "def train(dataset, epochs):\n",
    "    for epoch in range(epochs):\n",
    "        start = time.time()\n",
    "        i = 0\n",
    "        loss_ = []\n",
    "        for transaction_batch in dataset:\n",
    "            i += 1\n",
    "            loss = train_step(transaction_batch)\n",
    "            #loss_.append(loss)\n",
    "\n",
    "        #print(\"Loss\",np.mean(loss_))    \n",
    "\n",
    "        # Save the model every 15 epochs\n",
    "        #if (epoch + 1) % 15 == 0:\n",
    "        #    checkpoint.save(file_prefix = checkpoint_prefix)\n",
    "        enc.save_weights('tf_vae/toy_fraud/training_weights/enc_'+ str(epoch)+'.h5')\n",
    "        dec.save_weights('tf_vae/toy_fraud/training_weights/dec_'+ str(epoch)+'.h5')\n",
    "        print ('Time for epoch {} is {} sec'.format(epoch + 1, time.time()-start))"
   ]
  },
  {
   "cell_type": "code",
   "execution_count": 298,
   "metadata": {},
   "outputs": [
    {
     "name": "stdout",
     "output_type": "stream",
     "text": [
      "Tensor(\"Encoder_2/encoder_output/random_normal:0\", shape=(128, 2), dtype=float32)\n",
      "Tensor(\"Encoder_2/encoder_output/random_normal:0\", shape=(128, 2), dtype=float32)\n",
      "Tensor(\"Encoder_2/encoder_output/random_normal:0\", shape=(3, 2), dtype=float32)\n",
      "Time for epoch 1 is 42.31146264076233 sec\n",
      "Time for epoch 2 is 28.59513282775879 sec\n",
      "Time for epoch 3 is 27.486949920654297 sec\n",
      "Time for epoch 4 is 27.888354063034058 sec\n",
      "Time for epoch 5 is 28.228455781936646 sec\n",
      "Time for epoch 6 is 31.31092643737793 sec\n",
      "Time for epoch 7 is 29.73422932624817 sec\n",
      "Time for epoch 8 is 32.86926031112671 sec\n",
      "Time for epoch 9 is 28.703728199005127 sec\n",
      "Time for epoch 10 is 25.6278715133667 sec\n",
      "Time for epoch 11 is 25.55897283554077 sec\n",
      "Time for epoch 12 is 32.75221109390259 sec\n",
      "Time for epoch 13 is 30.0724675655365 sec\n",
      "Time for epoch 14 is 34.84840130805969 sec\n",
      "Time for epoch 15 is 31.454281091690063 sec\n",
      "Time for epoch 16 is 38.61600065231323 sec\n",
      "Time for epoch 17 is 39.96690130233765 sec\n",
      "Time for epoch 18 is 38.93362736701965 sec\n",
      "Time for epoch 19 is 40.243070125579834 sec\n",
      "Time for epoch 20 is 32.7186176776886 sec\n",
      "Time for epoch 21 is 31.883698225021362 sec\n",
      "Time for epoch 22 is 37.87619638442993 sec\n",
      "Time for epoch 23 is 39.80696773529053 sec\n",
      "Time for epoch 24 is 35.38668417930603 sec\n",
      "Time for epoch 25 is 29.830409288406372 sec\n",
      "Time for epoch 26 is 33.13579297065735 sec\n",
      "Time for epoch 27 is 36.112871170043945 sec\n",
      "Time for epoch 28 is 31.100221872329712 sec\n",
      "Time for epoch 29 is 30.969958305358887 sec\n",
      "Time for epoch 30 is 26.69942021369934 sec\n",
      "Time for epoch 31 is 26.848304510116577 sec\n",
      "Time for epoch 32 is 25.014087200164795 sec\n",
      "Time for epoch 33 is 24.940778970718384 sec\n",
      "Time for epoch 34 is 25.247738122940063 sec\n",
      "Time for epoch 35 is 25.628987073898315 sec\n",
      "Time for epoch 36 is 24.98843765258789 sec\n",
      "Time for epoch 37 is 25.07330560684204 sec\n",
      "Time for epoch 38 is 26.658797025680542 sec\n",
      "Time for epoch 39 is 25.3581702709198 sec\n",
      "Time for epoch 40 is 27.78916072845459 sec\n",
      "Time for epoch 41 is 25.43223214149475 sec\n",
      "Time for epoch 42 is 24.937142848968506 sec\n",
      "Time for epoch 43 is 24.910260438919067 sec\n",
      "Time for epoch 44 is 25.09076690673828 sec\n",
      "Time for epoch 45 is 25.115067958831787 sec\n",
      "Time for epoch 46 is 24.93611192703247 sec\n",
      "Time for epoch 47 is 24.981261491775513 sec\n",
      "Time for epoch 48 is 25.057027101516724 sec\n",
      "Time for epoch 49 is 24.961202144622803 sec\n",
      "Time for epoch 50 is 25.103861570358276 sec\n",
      "Time for epoch 51 is 25.588353157043457 sec\n",
      "Time for epoch 52 is 25.516754865646362 sec\n",
      "Time for epoch 53 is 25.309927225112915 sec\n",
      "Time for epoch 54 is 24.93803906440735 sec\n",
      "Time for epoch 55 is 25.218080282211304 sec\n",
      "Time for epoch 56 is 25.00333333015442 sec\n",
      "Time for epoch 57 is 25.04732084274292 sec\n",
      "Time for epoch 58 is 24.990039825439453 sec\n",
      "Time for epoch 59 is 24.957459449768066 sec\n",
      "Time for epoch 60 is 25.142831563949585 sec\n",
      "Time for epoch 61 is 25.01092267036438 sec\n",
      "Time for epoch 62 is 24.978474855422974 sec\n",
      "Time for epoch 63 is 25.053963661193848 sec\n",
      "Time for epoch 64 is 25.062127351760864 sec\n",
      "Time for epoch 65 is 25.34121870994568 sec\n",
      "Time for epoch 66 is 25.163359880447388 sec\n",
      "Time for epoch 67 is 25.342353343963623 sec\n",
      "Time for epoch 68 is 25.34528160095215 sec\n",
      "Time for epoch 69 is 25.41446280479431 sec\n",
      "Time for epoch 70 is 25.207686185836792 sec\n",
      "Time for epoch 71 is 25.221553325653076 sec\n",
      "Time for epoch 72 is 25.236456394195557 sec\n",
      "Time for epoch 73 is 25.367635011672974 sec\n",
      "Time for epoch 74 is 25.2690372467041 sec\n",
      "Time for epoch 75 is 25.296101570129395 sec\n",
      "Time for epoch 76 is 25.36125683784485 sec\n",
      "Time for epoch 77 is 25.21293044090271 sec\n",
      "Time for epoch 78 is 25.256593465805054 sec\n",
      "Time for epoch 79 is 25.31701397895813 sec\n",
      "Time for epoch 80 is 25.26586604118347 sec\n",
      "Time for epoch 81 is 25.25471043586731 sec\n",
      "Time for epoch 82 is 25.3063862323761 sec\n",
      "Time for epoch 83 is 29.69682550430298 sec\n",
      "Time for epoch 84 is 28.371763706207275 sec\n",
      "Time for epoch 85 is 25.396053552627563 sec\n",
      "Time for epoch 86 is 25.311163187026978 sec\n",
      "Time for epoch 87 is 27.754619121551514 sec\n",
      "Time for epoch 88 is 33.72373342514038 sec\n",
      "Time for epoch 89 is 28.221518993377686 sec\n",
      "Time for epoch 90 is 28.929553985595703 sec\n",
      "Time for epoch 91 is 28.16568160057068 sec\n",
      "Time for epoch 92 is 28.996049165725708 sec\n",
      "Time for epoch 93 is 28.37365698814392 sec\n",
      "Time for epoch 94 is 28.5697500705719 sec\n",
      "Time for epoch 95 is 28.567007780075073 sec\n",
      "Time for epoch 96 is 26.72176718711853 sec\n",
      "Time for epoch 97 is 28.1793110370636 sec\n",
      "Time for epoch 98 is 27.255566120147705 sec\n",
      "Time for epoch 99 is 28.50347065925598 sec\n",
      "Time for epoch 100 is 29.52902317047119 sec\n"
     ]
    }
   ],
   "source": [
    "train(train_dataset, 100)"
   ]
  },
  {
   "cell_type": "code",
   "execution_count": 299,
   "metadata": {},
   "outputs": [],
   "source": [
    "enc.load_weights('tf_vae/toy_fraud/training_weights/enc_99.h5')\n",
    "dec.load_weights('tf_vae/toy_fraud/training_weights/dec_99.h5')"
   ]
  },
  {
   "cell_type": "markdown",
   "metadata": {},
   "source": [
    "## Latent Space Projection of Variational Autoencoder Trained on Transactions"
   ]
  },
  {
   "cell_type": "code",
   "execution_count": 300,
   "metadata": {},
   "outputs": [
    {
     "name": "stdout",
     "output_type": "stream",
     "text": [
      "tf.Tensor(\n",
      "[[-0.6694623   0.28427583]\n",
      " [ 0.09800812 -0.8903605 ]\n",
      " [-0.30047113  0.8191024 ]\n",
      " ...\n",
      " [-0.6236793   1.9233252 ]\n",
      " [ 1.0621816   0.42208922]\n",
      " [ 0.6379565   0.15903166]], shape=(5000, 2), dtype=float32)\n"
     ]
    },
    {
     "data": {
      "image/png": "[encoded data removed]",
      "text/plain": [
       "<Figure size 864x864 with 1 Axes>"
      ]
     },
     "metadata": {
      "needs_background": "light"
     },
     "output_type": "display_data"
    }
   ],
   "source": [
    "n_to_show = 5000\n",
    "figsize = 12\n",
    "\n",
    "example_idx = np.random.choice(range(len(x_test)), n_to_show)\n",
    "example_images = x_test[example_idx]\n",
    "\n",
    "m, v = enc.predict(example_images)\n",
    "embeddings = final([m,v])\n",
    "\n",
    "\n",
    "\n",
    "plt.figure(figsize=(figsize, figsize))\n",
    "plt.scatter(embeddings[:, 0] , embeddings[:, 1], alpha=0.5, s=2)\n",
    "plt.xlabel(\"Dimension-1\", size=20)\n",
    "plt.ylabel(\"Dimension-2\", size=20)\n",
    "plt.xticks(size=20)\n",
    "plt.yticks(size=20)\n",
    "plt.title(\"Projection of 2D Latent-Space (Toy Fraud Transactions)\", size=20)\n",
    "plt.show()"
   ]
  },
  {
   "cell_type": "code",
   "execution_count": 155,
   "metadata": {},
   "outputs": [],
   "source": [
    "# Create dictionary of target classes\n",
    "label_dict = {\n",
    " 0: 'Not fraud',\n",
    " 1: 'Fraud',\n",
    "}"
   ]
  },
  {
   "cell_type": "markdown",
   "metadata": {},
   "source": [
    "## Reconstructing Transactions' Fraud feature with Latent-Vector Sampled from Normal Distribution"
   ]
  },
  {
   "cell_type": "code",
   "execution_count": 156,
   "metadata": {},
   "outputs": [],
   "source": [
    "figsize = 15\n",
    "\n",
    "x = np.random.normal(size = (10,2))\n",
    "#x = np.random.uniform(size = (10,200))\n",
    "reconstruct = dec.predict(x)"
   ]
  },
  {
   "cell_type": "code",
   "execution_count": 157,
   "metadata": {},
   "outputs": [
    {
     "data": {
      "text/plain": [
       "array([[0.16518089],\n",
       "       [0.16588596],\n",
       "       [0.16491792],\n",
       "       [0.16575366],\n",
       "       [0.16452223],\n",
       "       [0.16626656],\n",
       "       [0.16567332],\n",
       "       [0.16547947],\n",
       "       [0.16586432],\n",
       "       [0.16519243]], dtype=float32)"
      ]
     },
     "execution_count": 157,
     "metadata": {},
     "output_type": "execute_result"
    }
   ],
   "source": [
    "reconstruct"
   ]
  },
  {
   "cell_type": "markdown",
   "metadata": {},
   "source": [
    "## Reconstructing Test Transactions' Fraud feature"
   ]
  },
  {
   "cell_type": "code",
   "execution_count": 158,
   "metadata": {},
   "outputs": [
    {
     "name": "stdout",
     "output_type": "stream",
     "text": [
      "tf.Tensor(\n",
      "[[-0.5028684  -0.13234432]\n",
      " [ 1.1235347   1.9419212 ]\n",
      " [ 1.211597    0.30217022]\n",
      " [-0.7276473   0.72303045]\n",
      " [ 1.3310434  -0.15014158]\n",
      " [-0.7759124  -0.00855695]\n",
      " [ 0.1201589   0.72996646]\n",
      " [-2.41856     0.2759032 ]\n",
      " [ 0.4153118  -1.8246846 ]\n",
      " [-0.04153842 -0.31987607]\n",
      " [-0.65430284  1.0920979 ]\n",
      " [ 0.5411113   1.1503149 ]\n",
      " [ 0.85901564 -1.4993172 ]\n",
      " [ 0.19360052  0.13159034]\n",
      " [ 0.0477905   1.5856719 ]\n",
      " [-0.11166362 -1.1445298 ]\n",
      " [ 0.38020852  1.817826  ]\n",
      " [-0.4369163   1.1799055 ]\n",
      " [-0.22729747 -0.65854615]\n",
      " [-0.05406525 -1.5915408 ]\n",
      " [ 0.4352019   2.318363  ]\n",
      " [-0.67400026  1.127527  ]\n",
      " [-0.27488127 -0.7046427 ]\n",
      " [ 1.3695471   0.96998036]\n",
      " [ 0.48835886  0.8224141 ]\n",
      " [-0.10619102  1.2145053 ]\n",
      " [-0.58757627  1.1410577 ]\n",
      " [ 0.953696   -1.4945215 ]\n",
      " [ 1.4403929  -0.42315856]\n",
      " [-1.1839492  -0.41465455]\n",
      " [-0.66113794 -0.9375067 ]\n",
      " [-1.3229569  -0.44748875]\n",
      " [ 0.1576701   0.50287294]\n",
      " [ 2.390505   -0.5207009 ]\n",
      " [-1.197785   -0.26486874]\n",
      " [-0.07470112 -0.5451159 ]\n",
      " [-0.19599171 -0.2856306 ]\n",
      " [-0.08442289  0.7574608 ]\n",
      " [ 0.2496585  -2.176772  ]\n",
      " [ 1.3975646   0.4735028 ]\n",
      " [-0.8792935   0.26576212]\n",
      " [ 0.22243951 -0.95007265]\n",
      " [-0.4197283  -0.06312729]\n",
      " [-1.5908679   0.14950584]\n",
      " [ 0.94970846 -1.2764925 ]\n",
      " [-0.19425952 -0.7943171 ]\n",
      " [-1.3172264   0.3741599 ]\n",
      " [ 1.1726779   0.8039585 ]\n",
      " [ 1.3777516   0.8420345 ]], shape=(49, 2), dtype=float32)\n"
     ]
    }
   ],
   "source": [
    "start = 0\n",
    "for i in range(len(y_test)):\n",
    "    if y_test[i] == 1:\n",
    "        start = i\n",
    "        break\n",
    "m, v = enc.predict(x_test[start:start + 49])\n",
    "latent = final([m,v])\n",
    "reconst = dec.predict(latent)"
   ]
  },
  {
   "cell_type": "code",
   "execution_count": 159,
   "metadata": {},
   "outputs": [
    {
     "name": "stdout",
     "output_type": "stream",
     "text": [
      "0.16582072\n",
      "0.16552539\n",
      "0.16505921\n",
      "0.16615784\n",
      "0.16487747\n",
      "0.1659936\n",
      "0.1657279\n",
      "0.16691124\n",
      "0.1649138\n",
      "0.16553935\n",
      "0.16621518\n",
      "0.16561994\n",
      "0.16477317\n",
      "0.16553476\n",
      "0.16598962\n",
      "0.16535804\n",
      "0.16587636\n",
      "0.16612831\n",
      "0.16554707\n",
      "0.16522166\n",
      "0.16598055\n",
      "0.16623513\n",
      "0.16555917\n",
      "0.16515112\n",
      "0.16556348\n",
      "0.1659663\n",
      "0.16619506\n",
      "0.16472507\n",
      "0.16475067\n",
      "0.16609585\n",
      "0.1656926\n",
      "0.1661602\n",
      "0.16564876\n",
      "0.16423851\n",
      "0.1661422\n",
      "0.16550682\n",
      "0.16562513\n",
      "0.16584505\n",
      "0.16490701\n",
      "0.16500515\n",
      "0.16611618\n",
      "0.16523984\n",
      "0.16579646\n",
      "0.16645235\n",
      "0.16478656\n",
      "0.16549298\n",
      "0.16637231\n",
      "0.16520831\n",
      "0.16511387\n"
     ]
    }
   ],
   "source": [
    "for i in range(len(reconst)):\n",
    "    print(reconst[i,0])\n"
   ]
  },
  {
   "cell_type": "code",
   "execution_count": 160,
   "metadata": {},
   "outputs": [
    {
     "name": "stdout",
     "output_type": "stream",
     "text": [
      "Fraud\n",
      "Not fraud\n",
      "Not fraud\n",
      "Not fraud\n",
      "Not fraud\n",
      "Not fraud\n",
      "Not fraud\n",
      "Not fraud\n",
      "Not fraud\n",
      "Not fraud\n",
      "Not fraud\n",
      "Not fraud\n",
      "Not fraud\n",
      "Not fraud\n",
      "Not fraud\n",
      "Not fraud\n",
      "Not fraud\n",
      "Not fraud\n",
      "Not fraud\n",
      "Not fraud\n",
      "Not fraud\n",
      "Not fraud\n",
      "Not fraud\n",
      "Not fraud\n",
      "Not fraud\n",
      "Not fraud\n",
      "Not fraud\n",
      "Not fraud\n",
      "Not fraud\n",
      "Not fraud\n",
      "Not fraud\n",
      "Not fraud\n",
      "Not fraud\n",
      "Not fraud\n",
      "Not fraud\n",
      "Not fraud\n",
      "Not fraud\n",
      "Not fraud\n",
      "Not fraud\n",
      "Not fraud\n",
      "Not fraud\n",
      "Not fraud\n",
      "Not fraud\n",
      "Not fraud\n",
      "Not fraud\n",
      "Not fraud\n",
      "Not fraud\n",
      "Not fraud\n",
      "Not fraud\n"
     ]
    }
   ],
   "source": [
    "for i in range(start,start + 49):\n",
    "    print(str(label_dict[y_test[i]]))"
   ]
  }
 ],
 "metadata": {
  "kernelspec": {
   "display_name": "Python 3",
   "language": "python",
   "name": "python3"
  },
  "language_info": {
   "codemirror_mode": {
    "name": "ipython",
    "version": 3
   },
   "file_extension": ".py",
   "mimetype": "text/x-python",
   "name": "python",
   "nbconvert_exporter": "python",
   "pygments_lexer": "ipython3",
   "version": "3.8.5"
  }
 },
 "nbformat": 4,
 "nbformat_minor": 4
}
