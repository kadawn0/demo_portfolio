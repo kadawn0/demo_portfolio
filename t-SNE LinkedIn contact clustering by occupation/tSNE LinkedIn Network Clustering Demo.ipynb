{
 "cells": [
  {
   "cell_type": "code",
   "execution_count": null,
   "id": "light-authorization",
   "metadata": {},
   "outputs": [],
   "source": [
    "!pip install plotly\n",
    "!pip install pandas\n",
    "!pip install pytz"
   ]
  },
  {
   "cell_type": "markdown",
   "id": "aa4e0d6c",
   "metadata": {},
   "source": [
    "# t-SNE clustering of your LinkedIn network"
   ]
  },
  {
   "cell_type": "markdown",
   "id": "4311d9a8",
   "metadata": {},
   "source": [
    "## Fill with your own data downloaded from the settings page"
   ]
  },
  {
   "cell_type": "code",
   "execution_count": null,
   "id": "premium-lawsuit",
   "metadata": {},
   "outputs": [],
   "source": [
    "import pandas as pd\n",
    "import plotly.express as px\n",
    "import plotly.offline as pyo\n",
    "pyo.init_notebook_mode()"
   ]
  },
  {
   "cell_type": "markdown",
   "id": "vietnamese-secretary",
   "metadata": {},
   "source": [
    "# Prepare data"
   ]
  },
  {
   "cell_type": "code",
   "execution_count": null,
   "id": "consolidated-equivalent",
   "metadata": {},
   "outputs": [],
   "source": [
    "df = pd.read_csv('Connections.csv')\n",
    "df = df.dropna(subset=['Company']).dropna(subset=['Position']).drop('Email Address', 1)\n",
    "df['sort_val'] = df.Position.apply(lambda x: x.split(\" \")[0])\n",
    "df = df.sort_values(by='sort_val').drop('sort_val', 1)\n",
    "df.head(n=10)"
   ]
  },
  {
   "cell_type": "markdown",
   "id": "caroline-madrid",
   "metadata": {},
   "source": [
    "# One-Hot encoding"
   ]
  },
  {
   "cell_type": "code",
   "execution_count": null,
   "id": "talented-raise",
   "metadata": {},
   "outputs": [],
   "source": [
    "nominal_features = pd.get_dummies(df.loc[:, ['Company', 'Position']], prefix=['Company', 'Position'], drop_first=True)\n",
    "y = df.copy().pop('Position').values\n",
    "X = df[['Company']].copy()\n",
    "X_d = pd.get_dummies(X, drop_first=True)\n",
    "X_d.head()"
   ]
  },
  {
   "cell_type": "markdown",
   "id": "infrared-grove",
   "metadata": {},
   "source": [
    "# t-SNE clustering by Company to predict Position"
   ]
  },
  {
   "cell_type": "code",
   "execution_count": null,
   "id": "automatic-suite",
   "metadata": {},
   "outputs": [],
   "source": [
    "from sklearn.manifold import TSNE\n",
    "import seaborn as sns\n",
    "import matplotlib.pyplot as plt\n",
    "\n",
    "# We want to get TSNE embedding with 2 dimensions\n",
    "n_components = 2\n",
    "tsne = TSNE(n_components)\n",
    "tsne_result = tsne.fit_transform(X_d)\n",
    "tsne_result.shape"
   ]
  },
  {
   "cell_type": "code",
   "execution_count": null,
   "id": "preceding-distance",
   "metadata": {},
   "outputs": [],
   "source": [
    "# Plot the result of our TSNE with the label color coded\n",
    "# A lot of the stuff here is about making the plot look pretty and not TSNE\n",
    "tsne_result_df = pd.DataFrame({'tsne_1': tsne_result[:,0], 'tsne_2': tsne_result[:,1], 'label': y})\n",
    "fig, ax = plt.subplots(1,figsize=(30,30))\n",
    "sns.scatterplot(x='tsne_1', y='tsne_2', hue='label', data=tsne_result_df, ax=ax,s=120)\n",
    "lim = (tsne_result.min()-5, tsne_result.max()+5)\n",
    "ax.set_xlim(lim)\n",
    "ax.set_ylim(lim)\n",
    "ax.set_aspect('equal')\n",
    "ax.legend(bbox_to_anchor=(1.05, 1), loc=2, borderaxespad=0.0)"
   ]
  }
 ],
 "metadata": {
  "kernelspec": {
   "display_name": "Cat",
   "language": "python",
   "name": "cat"
  },
  "language_info": {
   "codemirror_mode": {
    "name": "ipython",
    "version": 3
   },
   "file_extension": ".py",
   "mimetype": "text/x-python",
   "name": "python",
   "nbconvert_exporter": "python",
   "pygments_lexer": "ipython3",
   "version": "3.8.2"
  }
 },
 "nbformat": 4,
 "nbformat_minor": 5
}
